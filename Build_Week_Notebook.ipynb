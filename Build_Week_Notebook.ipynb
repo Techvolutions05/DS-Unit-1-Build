{
  "nbformat": 4,
  "nbformat_minor": 0,
  "metadata": {
    "colab": {
      "name": "Build-Week-Notebook.ipynb",
      "provenance": [],
      "collapsed_sections": [],
      "authorship_tag": "ABX9TyPp/e70fiEaCBu27nbArSoE",
      "include_colab_link": true
    },
    "kernelspec": {
      "name": "python3",
      "display_name": "Python 3"
    }
  },
  "cells": [
    {
      "cell_type": "markdown",
      "metadata": {
        "id": "view-in-github",
        "colab_type": "text"
      },
      "source": [
        "<a href=\"https://colab.research.google.com/github/Techvolutions05/DS-Unit-1-Build/blob/master/Build_Week_Notebook.ipynb\" target=\"_parent\"><img src=\"https://colab.research.google.com/assets/colab-badge.svg\" alt=\"Open In Colab\"/></a>"
      ]
    },
    {
      "cell_type": "markdown",
      "metadata": {
        "id": "HrIZZn4tYIq4",
        "colab_type": "text"
      },
      "source": [
        "#3D Printing material Dataset"
      ]
    },
    {
      "cell_type": "code",
      "metadata": {
        "id": "UF8dliJwppBe",
        "colab_type": "code",
        "colab": {}
      },
      "source": [
        "import pandas as pd\n",
        "import numpy as np\n",
        "import matplotlib.pyplot as plt\n",
        "import altair as alt\n",
        "from plotly.offline import iplot\n",
        "import plotly.graph_objs as go\n",
        "import IPython\n",
        "import plotly.offline as py\n",
        "from altair import datum\n",
        "import plotly.express as px\n",
        "import plotly"
      ],
      "execution_count": 151,
      "outputs": []
    },
    {
      "cell_type": "code",
      "metadata": {
        "id": "ny6WFvfVDVsw",
        "colab_type": "code",
        "colab": {
          "resources": {
            "http://localhost:8080/nbextensions/google.colab/files.js": {
              "data": "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",
              "ok": true,
              "headers": [
                [
                  "content-type",
                  "application/javascript"
                ]
              ],
              "status": 200,
              "status_text": ""
            }
          },
          "base_uri": "https://localhost:8080/",
          "height": 91
        },
        "outputId": "9ef2f86a-1fd6-45f1-b1b2-974bfd4e9bbe"
      },
      "source": [
        "# importing the dataset\n",
        "from google.colab import files\n",
        "uploaded = files.upload()\n",
        "\n",
        "'''Link to the raw zip files dataset (https://www.kaggle.com/vinaynomula/3d-printer-material-dataset/version/1)'''"
      ],
      "execution_count": 150,
      "outputs": [
        {
          "output_type": "display_data",
          "data": {
            "text/html": [
              "\n",
              "     <input type=\"file\" id=\"files-d660246d-5ca5-43ec-b157-15f7bf510c75\" name=\"files[]\" multiple disabled\n",
              "        style=\"border:none\" />\n",
              "     <output id=\"result-d660246d-5ca5-43ec-b157-15f7bf510c75\">\n",
              "      Upload widget is only available when the cell has been executed in the\n",
              "      current browser session. Please rerun this cell to enable.\n",
              "      </output>\n",
              "      <script src=\"/nbextensions/google.colab/files.js\"></script> "
            ],
            "text/plain": [
              "<IPython.core.display.HTML object>"
            ]
          },
          "metadata": {
            "tags": []
          }
        },
        {
          "output_type": "stream",
          "text": [
            "Saving 3DPrintFile.zip to 3DPrintFile (3).zip\n"
          ],
          "name": "stdout"
        },
        {
          "output_type": "execute_result",
          "data": {
            "text/plain": [
              "'Link to the raw zip files dataset (https://www.kaggle.com/vinaynomula/3d-printer-material-dataset/version/1)'"
            ]
          },
          "metadata": {
            "tags": []
          },
          "execution_count": 150
        }
      ]
    },
    {
      "cell_type": "code",
      "metadata": {
        "id": "FTHbJZfQGFCW",
        "colab_type": "code",
        "colab": {
          "base_uri": "https://localhost:8080/",
          "height": 52
        },
        "outputId": "cc876b91-e657-43a9-8a8b-dc628ea2e604"
      },
      "source": [
        "# Unzipping the dataset\n",
        "!unzip 3DPrintFile.zip"
      ],
      "execution_count": 152,
      "outputs": [
        {
          "output_type": "stream",
          "text": [
            "Archive:  3DPrintFile.zip\n",
            "replace 3D printer Material Prediction.csv? [y]es, [n]o, [A]ll, [N]one, [r]ename: n\n"
          ],
          "name": "stdout"
        }
      ]
    },
    {
      "cell_type": "code",
      "metadata": {
        "id": "gmDXCrHJU4MW",
        "colab_type": "code",
        "colab": {}
      },
      "source": [
        "# reading the dataset\n",
        "df = pd.read_csv('3D printer Material Prediction.csv')"
      ],
      "execution_count": 153,
      "outputs": []
    },
    {
      "cell_type": "code",
      "metadata": {
        "id": "74XyDmEaVOa-",
        "colab_type": "code",
        "colab": {
          "base_uri": "https://localhost:8080/",
          "height": 197
        },
        "outputId": "6020ab07-c890-40d4-ec2f-2fb7aab00da4"
      },
      "source": [
        "df.head()"
      ],
      "execution_count": 154,
      "outputs": [
        {
          "output_type": "execute_result",
          "data": {
            "text/html": [
              "<div>\n",
              "<style scoped>\n",
              "    .dataframe tbody tr th:only-of-type {\n",
              "        vertical-align: middle;\n",
              "    }\n",
              "\n",
              "    .dataframe tbody tr th {\n",
              "        vertical-align: top;\n",
              "    }\n",
              "\n",
              "    .dataframe thead th {\n",
              "        text-align: right;\n",
              "    }\n",
              "</style>\n",
              "<table border=\"1\" class=\"dataframe\">\n",
              "  <thead>\n",
              "    <tr style=\"text-align: right;\">\n",
              "      <th></th>\n",
              "      <th>layer_height</th>\n",
              "      <th>wall_thickness</th>\n",
              "      <th>infill_density</th>\n",
              "      <th>infill_pattern</th>\n",
              "      <th>nozzle_temperature</th>\n",
              "      <th>bed_temperature</th>\n",
              "      <th>print_speed</th>\n",
              "      <th>material</th>\n",
              "      <th>fan_speed</th>\n",
              "      <th>roughness</th>\n",
              "      <th>tension_strenght</th>\n",
              "      <th>elongation</th>\n",
              "    </tr>\n",
              "  </thead>\n",
              "  <tbody>\n",
              "    <tr>\n",
              "      <th>0</th>\n",
              "      <td>0.02</td>\n",
              "      <td>8.0</td>\n",
              "      <td>90</td>\n",
              "      <td>grid</td>\n",
              "      <td>220</td>\n",
              "      <td>60</td>\n",
              "      <td>40</td>\n",
              "      <td>abs</td>\n",
              "      <td>0</td>\n",
              "      <td>25</td>\n",
              "      <td>18</td>\n",
              "      <td>1.2</td>\n",
              "    </tr>\n",
              "    <tr>\n",
              "      <th>1</th>\n",
              "      <td>0.02</td>\n",
              "      <td>7.0</td>\n",
              "      <td>90</td>\n",
              "      <td>honeycomb</td>\n",
              "      <td>225</td>\n",
              "      <td>65</td>\n",
              "      <td>40</td>\n",
              "      <td>abs</td>\n",
              "      <td>25</td>\n",
              "      <td>32</td>\n",
              "      <td>16</td>\n",
              "      <td>1.4</td>\n",
              "    </tr>\n",
              "    <tr>\n",
              "      <th>2</th>\n",
              "      <td>0.02</td>\n",
              "      <td>1.0</td>\n",
              "      <td>80</td>\n",
              "      <td>grid</td>\n",
              "      <td>230</td>\n",
              "      <td>70</td>\n",
              "      <td>40</td>\n",
              "      <td>abs</td>\n",
              "      <td>50</td>\n",
              "      <td>40</td>\n",
              "      <td>8</td>\n",
              "      <td>0.8</td>\n",
              "    </tr>\n",
              "    <tr>\n",
              "      <th>3</th>\n",
              "      <td>0.02</td>\n",
              "      <td>4.0</td>\n",
              "      <td>70</td>\n",
              "      <td>honeycomb</td>\n",
              "      <td>240</td>\n",
              "      <td>75</td>\n",
              "      <td>40</td>\n",
              "      <td>abs</td>\n",
              "      <td>75</td>\n",
              "      <td>68</td>\n",
              "      <td>10</td>\n",
              "      <td>0.5</td>\n",
              "    </tr>\n",
              "    <tr>\n",
              "      <th>4</th>\n",
              "      <td>0.02</td>\n",
              "      <td>6.0</td>\n",
              "      <td>90</td>\n",
              "      <td>grid</td>\n",
              "      <td>250</td>\n",
              "      <td>80</td>\n",
              "      <td>40</td>\n",
              "      <td>abs</td>\n",
              "      <td>100</td>\n",
              "      <td>92</td>\n",
              "      <td>5</td>\n",
              "      <td>0.7</td>\n",
              "    </tr>\n",
              "  </tbody>\n",
              "</table>\n",
              "</div>"
            ],
            "text/plain": [
              "   layer_height  wall_thickness  ...  tension_strenght elongation\n",
              "0          0.02             8.0  ...                18        1.2\n",
              "1          0.02             7.0  ...                16        1.4\n",
              "2          0.02             1.0  ...                 8        0.8\n",
              "3          0.02             4.0  ...                10        0.5\n",
              "4          0.02             6.0  ...                 5        0.7\n",
              "\n",
              "[5 rows x 12 columns]"
            ]
          },
          "metadata": {
            "tags": []
          },
          "execution_count": 154
        }
      ]
    },
    {
      "cell_type": "code",
      "metadata": {
        "id": "Kvk71llTY--X",
        "colab_type": "code",
        "colab": {
          "base_uri": "https://localhost:8080/",
          "height": 34
        },
        "outputId": "fd38dc06-90ea-492a-d96f-139986d4cc65"
      },
      "source": [
        "df.shape"
      ],
      "execution_count": 155,
      "outputs": [
        {
          "output_type": "execute_result",
          "data": {
            "text/plain": [
              "(66, 12)"
            ]
          },
          "metadata": {
            "tags": []
          },
          "execution_count": 155
        }
      ]
    },
    {
      "cell_type": "code",
      "metadata": {
        "id": "AiYUtDcgVaR9",
        "colab_type": "code",
        "colab": {}
      },
      "source": [
        "# Assigning variables to nozzle and bed\n",
        "\n",
        "noz_temp = pd.DataFrame(df['nozzle_temperature'])\n",
        "bed_temp = pd.DataFrame(df['bed_temperature'])"
      ],
      "execution_count": 156,
      "outputs": []
    },
    {
      "cell_type": "code",
      "metadata": {
        "id": "A8gXhJjM0EkK",
        "colab_type": "code",
        "colab": {}
      },
      "source": [
        "# Changing the material abs to pla\n",
        "df['material'] = df['material'].replace({'abs':'pla'})"
      ],
      "execution_count": 157,
      "outputs": []
    },
    {
      "cell_type": "code",
      "metadata": {
        "id": "2rdW_I5xg-O6",
        "colab_type": "code",
        "colab": {
          "base_uri": "https://localhost:8080/",
          "height": 197
        },
        "outputId": "1bcf11ec-3934-476e-f088-3cef2aee1fe7"
      },
      "source": [
        "df.head()"
      ],
      "execution_count": 158,
      "outputs": [
        {
          "output_type": "execute_result",
          "data": {
            "text/html": [
              "<div>\n",
              "<style scoped>\n",
              "    .dataframe tbody tr th:only-of-type {\n",
              "        vertical-align: middle;\n",
              "    }\n",
              "\n",
              "    .dataframe tbody tr th {\n",
              "        vertical-align: top;\n",
              "    }\n",
              "\n",
              "    .dataframe thead th {\n",
              "        text-align: right;\n",
              "    }\n",
              "</style>\n",
              "<table border=\"1\" class=\"dataframe\">\n",
              "  <thead>\n",
              "    <tr style=\"text-align: right;\">\n",
              "      <th></th>\n",
              "      <th>layer_height</th>\n",
              "      <th>wall_thickness</th>\n",
              "      <th>infill_density</th>\n",
              "      <th>infill_pattern</th>\n",
              "      <th>nozzle_temperature</th>\n",
              "      <th>bed_temperature</th>\n",
              "      <th>print_speed</th>\n",
              "      <th>material</th>\n",
              "      <th>fan_speed</th>\n",
              "      <th>roughness</th>\n",
              "      <th>tension_strenght</th>\n",
              "      <th>elongation</th>\n",
              "    </tr>\n",
              "  </thead>\n",
              "  <tbody>\n",
              "    <tr>\n",
              "      <th>0</th>\n",
              "      <td>0.02</td>\n",
              "      <td>8.0</td>\n",
              "      <td>90</td>\n",
              "      <td>grid</td>\n",
              "      <td>220</td>\n",
              "      <td>60</td>\n",
              "      <td>40</td>\n",
              "      <td>pla</td>\n",
              "      <td>0</td>\n",
              "      <td>25</td>\n",
              "      <td>18</td>\n",
              "      <td>1.2</td>\n",
              "    </tr>\n",
              "    <tr>\n",
              "      <th>1</th>\n",
              "      <td>0.02</td>\n",
              "      <td>7.0</td>\n",
              "      <td>90</td>\n",
              "      <td>honeycomb</td>\n",
              "      <td>225</td>\n",
              "      <td>65</td>\n",
              "      <td>40</td>\n",
              "      <td>pla</td>\n",
              "      <td>25</td>\n",
              "      <td>32</td>\n",
              "      <td>16</td>\n",
              "      <td>1.4</td>\n",
              "    </tr>\n",
              "    <tr>\n",
              "      <th>2</th>\n",
              "      <td>0.02</td>\n",
              "      <td>1.0</td>\n",
              "      <td>80</td>\n",
              "      <td>grid</td>\n",
              "      <td>230</td>\n",
              "      <td>70</td>\n",
              "      <td>40</td>\n",
              "      <td>pla</td>\n",
              "      <td>50</td>\n",
              "      <td>40</td>\n",
              "      <td>8</td>\n",
              "      <td>0.8</td>\n",
              "    </tr>\n",
              "    <tr>\n",
              "      <th>3</th>\n",
              "      <td>0.02</td>\n",
              "      <td>4.0</td>\n",
              "      <td>70</td>\n",
              "      <td>honeycomb</td>\n",
              "      <td>240</td>\n",
              "      <td>75</td>\n",
              "      <td>40</td>\n",
              "      <td>pla</td>\n",
              "      <td>75</td>\n",
              "      <td>68</td>\n",
              "      <td>10</td>\n",
              "      <td>0.5</td>\n",
              "    </tr>\n",
              "    <tr>\n",
              "      <th>4</th>\n",
              "      <td>0.02</td>\n",
              "      <td>6.0</td>\n",
              "      <td>90</td>\n",
              "      <td>grid</td>\n",
              "      <td>250</td>\n",
              "      <td>80</td>\n",
              "      <td>40</td>\n",
              "      <td>pla</td>\n",
              "      <td>100</td>\n",
              "      <td>92</td>\n",
              "      <td>5</td>\n",
              "      <td>0.7</td>\n",
              "    </tr>\n",
              "  </tbody>\n",
              "</table>\n",
              "</div>"
            ],
            "text/plain": [
              "   layer_height  wall_thickness  ...  tension_strenght elongation\n",
              "0          0.02             8.0  ...                18        1.2\n",
              "1          0.02             7.0  ...                16        1.4\n",
              "2          0.02             1.0  ...                 8        0.8\n",
              "3          0.02             4.0  ...                10        0.5\n",
              "4          0.02             6.0  ...                 5        0.7\n",
              "\n",
              "[5 rows x 12 columns]"
            ]
          },
          "metadata": {
            "tags": []
          },
          "execution_count": 158
        }
      ]
    },
    {
      "cell_type": "code",
      "metadata": {
        "id": "X7VnXyovIsS3",
        "colab_type": "code",
        "colab": {
          "base_uri": "https://localhost:8080/",
          "height": 197
        },
        "outputId": "ba4e82fb-5797-4aaf-981f-6c4adb26d38b"
      },
      "source": [
        "df.head()"
      ],
      "execution_count": 159,
      "outputs": [
        {
          "output_type": "execute_result",
          "data": {
            "text/html": [
              "<div>\n",
              "<style scoped>\n",
              "    .dataframe tbody tr th:only-of-type {\n",
              "        vertical-align: middle;\n",
              "    }\n",
              "\n",
              "    .dataframe tbody tr th {\n",
              "        vertical-align: top;\n",
              "    }\n",
              "\n",
              "    .dataframe thead th {\n",
              "        text-align: right;\n",
              "    }\n",
              "</style>\n",
              "<table border=\"1\" class=\"dataframe\">\n",
              "  <thead>\n",
              "    <tr style=\"text-align: right;\">\n",
              "      <th></th>\n",
              "      <th>layer_height</th>\n",
              "      <th>wall_thickness</th>\n",
              "      <th>infill_density</th>\n",
              "      <th>infill_pattern</th>\n",
              "      <th>nozzle_temperature</th>\n",
              "      <th>bed_temperature</th>\n",
              "      <th>print_speed</th>\n",
              "      <th>material</th>\n",
              "      <th>fan_speed</th>\n",
              "      <th>roughness</th>\n",
              "      <th>tension_strenght</th>\n",
              "      <th>elongation</th>\n",
              "    </tr>\n",
              "  </thead>\n",
              "  <tbody>\n",
              "    <tr>\n",
              "      <th>0</th>\n",
              "      <td>0.02</td>\n",
              "      <td>8.0</td>\n",
              "      <td>90</td>\n",
              "      <td>grid</td>\n",
              "      <td>220</td>\n",
              "      <td>60</td>\n",
              "      <td>40</td>\n",
              "      <td>pla</td>\n",
              "      <td>0</td>\n",
              "      <td>25</td>\n",
              "      <td>18</td>\n",
              "      <td>1.2</td>\n",
              "    </tr>\n",
              "    <tr>\n",
              "      <th>1</th>\n",
              "      <td>0.02</td>\n",
              "      <td>7.0</td>\n",
              "      <td>90</td>\n",
              "      <td>honeycomb</td>\n",
              "      <td>225</td>\n",
              "      <td>65</td>\n",
              "      <td>40</td>\n",
              "      <td>pla</td>\n",
              "      <td>25</td>\n",
              "      <td>32</td>\n",
              "      <td>16</td>\n",
              "      <td>1.4</td>\n",
              "    </tr>\n",
              "    <tr>\n",
              "      <th>2</th>\n",
              "      <td>0.02</td>\n",
              "      <td>1.0</td>\n",
              "      <td>80</td>\n",
              "      <td>grid</td>\n",
              "      <td>230</td>\n",
              "      <td>70</td>\n",
              "      <td>40</td>\n",
              "      <td>pla</td>\n",
              "      <td>50</td>\n",
              "      <td>40</td>\n",
              "      <td>8</td>\n",
              "      <td>0.8</td>\n",
              "    </tr>\n",
              "    <tr>\n",
              "      <th>3</th>\n",
              "      <td>0.02</td>\n",
              "      <td>4.0</td>\n",
              "      <td>70</td>\n",
              "      <td>honeycomb</td>\n",
              "      <td>240</td>\n",
              "      <td>75</td>\n",
              "      <td>40</td>\n",
              "      <td>pla</td>\n",
              "      <td>75</td>\n",
              "      <td>68</td>\n",
              "      <td>10</td>\n",
              "      <td>0.5</td>\n",
              "    </tr>\n",
              "    <tr>\n",
              "      <th>4</th>\n",
              "      <td>0.02</td>\n",
              "      <td>6.0</td>\n",
              "      <td>90</td>\n",
              "      <td>grid</td>\n",
              "      <td>250</td>\n",
              "      <td>80</td>\n",
              "      <td>40</td>\n",
              "      <td>pla</td>\n",
              "      <td>100</td>\n",
              "      <td>92</td>\n",
              "      <td>5</td>\n",
              "      <td>0.7</td>\n",
              "    </tr>\n",
              "  </tbody>\n",
              "</table>\n",
              "</div>"
            ],
            "text/plain": [
              "   layer_height  wall_thickness  ...  tension_strenght elongation\n",
              "0          0.02             8.0  ...                18        1.2\n",
              "1          0.02             7.0  ...                16        1.4\n",
              "2          0.02             1.0  ...                 8        0.8\n",
              "3          0.02             4.0  ...                10        0.5\n",
              "4          0.02             6.0  ...                 5        0.7\n",
              "\n",
              "[5 rows x 12 columns]"
            ]
          },
          "metadata": {
            "tags": []
          },
          "execution_count": 159
        }
      ]
    },
    {
      "cell_type": "code",
      "metadata": {
        "id": "QPKa5t8pUDWh",
        "colab_type": "code",
        "colab": {}
      },
      "source": [
        "noz_bed = pd.concat([df['bed_temperature'], df['nozzle_temperature']])\n",
        "noz_bed1 = pd.DataFrame(noz_bed)"
      ],
      "execution_count": 160,
      "outputs": []
    },
    {
      "cell_type": "code",
      "metadata": {
        "id": "5xOAHUdteeOy",
        "colab_type": "code",
        "colab": {
          "base_uri": "https://localhost:8080/",
          "height": 406
        },
        "outputId": "5192442a-605e-4543-efdb-e9185f3004d0"
      },
      "source": [
        "noz_bed1.columns = ['Nozzle_Bed_Temp']\n",
        "\n",
        "noz_bed1"
      ],
      "execution_count": 161,
      "outputs": [
        {
          "output_type": "execute_result",
          "data": {
            "text/html": [
              "<div>\n",
              "<style scoped>\n",
              "    .dataframe tbody tr th:only-of-type {\n",
              "        vertical-align: middle;\n",
              "    }\n",
              "\n",
              "    .dataframe tbody tr th {\n",
              "        vertical-align: top;\n",
              "    }\n",
              "\n",
              "    .dataframe thead th {\n",
              "        text-align: right;\n",
              "    }\n",
              "</style>\n",
              "<table border=\"1\" class=\"dataframe\">\n",
              "  <thead>\n",
              "    <tr style=\"text-align: right;\">\n",
              "      <th></th>\n",
              "      <th>Nozzle_Bed_Temp</th>\n",
              "    </tr>\n",
              "  </thead>\n",
              "  <tbody>\n",
              "    <tr>\n",
              "      <th>0</th>\n",
              "      <td>60</td>\n",
              "    </tr>\n",
              "    <tr>\n",
              "      <th>1</th>\n",
              "      <td>65</td>\n",
              "    </tr>\n",
              "    <tr>\n",
              "      <th>2</th>\n",
              "      <td>70</td>\n",
              "    </tr>\n",
              "    <tr>\n",
              "      <th>3</th>\n",
              "      <td>75</td>\n",
              "    </tr>\n",
              "    <tr>\n",
              "      <th>4</th>\n",
              "      <td>80</td>\n",
              "    </tr>\n",
              "    <tr>\n",
              "      <th>...</th>\n",
              "      <td>...</td>\n",
              "    </tr>\n",
              "    <tr>\n",
              "      <th>61</th>\n",
              "      <td>200</td>\n",
              "    </tr>\n",
              "    <tr>\n",
              "      <th>62</th>\n",
              "      <td>230</td>\n",
              "    </tr>\n",
              "    <tr>\n",
              "      <th>63</th>\n",
              "      <td>240</td>\n",
              "    </tr>\n",
              "    <tr>\n",
              "      <th>64</th>\n",
              "      <td>245</td>\n",
              "    </tr>\n",
              "    <tr>\n",
              "      <th>65</th>\n",
              "      <td>220</td>\n",
              "    </tr>\n",
              "  </tbody>\n",
              "</table>\n",
              "<p>132 rows × 1 columns</p>\n",
              "</div>"
            ],
            "text/plain": [
              "    Nozzle_Bed_Temp\n",
              "0                60\n",
              "1                65\n",
              "2                70\n",
              "3                75\n",
              "4                80\n",
              "..              ...\n",
              "61              200\n",
              "62              230\n",
              "63              240\n",
              "64              245\n",
              "65              220\n",
              "\n",
              "[132 rows x 1 columns]"
            ]
          },
          "metadata": {
            "tags": []
          },
          "execution_count": 161
        }
      ]
    },
    {
      "cell_type": "code",
      "metadata": {
        "id": "XP8IqxfaegAE",
        "colab_type": "code",
        "colab": {
          "base_uri": "https://localhost:8080/",
          "height": 197
        },
        "outputId": "4a58d32f-8289-4265-c57c-77fbb9c68343"
      },
      "source": [
        "df.head()"
      ],
      "execution_count": 162,
      "outputs": [
        {
          "output_type": "execute_result",
          "data": {
            "text/html": [
              "<div>\n",
              "<style scoped>\n",
              "    .dataframe tbody tr th:only-of-type {\n",
              "        vertical-align: middle;\n",
              "    }\n",
              "\n",
              "    .dataframe tbody tr th {\n",
              "        vertical-align: top;\n",
              "    }\n",
              "\n",
              "    .dataframe thead th {\n",
              "        text-align: right;\n",
              "    }\n",
              "</style>\n",
              "<table border=\"1\" class=\"dataframe\">\n",
              "  <thead>\n",
              "    <tr style=\"text-align: right;\">\n",
              "      <th></th>\n",
              "      <th>layer_height</th>\n",
              "      <th>wall_thickness</th>\n",
              "      <th>infill_density</th>\n",
              "      <th>infill_pattern</th>\n",
              "      <th>nozzle_temperature</th>\n",
              "      <th>bed_temperature</th>\n",
              "      <th>print_speed</th>\n",
              "      <th>material</th>\n",
              "      <th>fan_speed</th>\n",
              "      <th>roughness</th>\n",
              "      <th>tension_strenght</th>\n",
              "      <th>elongation</th>\n",
              "    </tr>\n",
              "  </thead>\n",
              "  <tbody>\n",
              "    <tr>\n",
              "      <th>0</th>\n",
              "      <td>0.02</td>\n",
              "      <td>8.0</td>\n",
              "      <td>90</td>\n",
              "      <td>grid</td>\n",
              "      <td>220</td>\n",
              "      <td>60</td>\n",
              "      <td>40</td>\n",
              "      <td>pla</td>\n",
              "      <td>0</td>\n",
              "      <td>25</td>\n",
              "      <td>18</td>\n",
              "      <td>1.2</td>\n",
              "    </tr>\n",
              "    <tr>\n",
              "      <th>1</th>\n",
              "      <td>0.02</td>\n",
              "      <td>7.0</td>\n",
              "      <td>90</td>\n",
              "      <td>honeycomb</td>\n",
              "      <td>225</td>\n",
              "      <td>65</td>\n",
              "      <td>40</td>\n",
              "      <td>pla</td>\n",
              "      <td>25</td>\n",
              "      <td>32</td>\n",
              "      <td>16</td>\n",
              "      <td>1.4</td>\n",
              "    </tr>\n",
              "    <tr>\n",
              "      <th>2</th>\n",
              "      <td>0.02</td>\n",
              "      <td>1.0</td>\n",
              "      <td>80</td>\n",
              "      <td>grid</td>\n",
              "      <td>230</td>\n",
              "      <td>70</td>\n",
              "      <td>40</td>\n",
              "      <td>pla</td>\n",
              "      <td>50</td>\n",
              "      <td>40</td>\n",
              "      <td>8</td>\n",
              "      <td>0.8</td>\n",
              "    </tr>\n",
              "    <tr>\n",
              "      <th>3</th>\n",
              "      <td>0.02</td>\n",
              "      <td>4.0</td>\n",
              "      <td>70</td>\n",
              "      <td>honeycomb</td>\n",
              "      <td>240</td>\n",
              "      <td>75</td>\n",
              "      <td>40</td>\n",
              "      <td>pla</td>\n",
              "      <td>75</td>\n",
              "      <td>68</td>\n",
              "      <td>10</td>\n",
              "      <td>0.5</td>\n",
              "    </tr>\n",
              "    <tr>\n",
              "      <th>4</th>\n",
              "      <td>0.02</td>\n",
              "      <td>6.0</td>\n",
              "      <td>90</td>\n",
              "      <td>grid</td>\n",
              "      <td>250</td>\n",
              "      <td>80</td>\n",
              "      <td>40</td>\n",
              "      <td>pla</td>\n",
              "      <td>100</td>\n",
              "      <td>92</td>\n",
              "      <td>5</td>\n",
              "      <td>0.7</td>\n",
              "    </tr>\n",
              "  </tbody>\n",
              "</table>\n",
              "</div>"
            ],
            "text/plain": [
              "   layer_height  wall_thickness  ...  tension_strenght elongation\n",
              "0          0.02             8.0  ...                18        1.2\n",
              "1          0.02             7.0  ...                16        1.4\n",
              "2          0.02             1.0  ...                 8        0.8\n",
              "3          0.02             4.0  ...                10        0.5\n",
              "4          0.02             6.0  ...                 5        0.7\n",
              "\n",
              "[5 rows x 12 columns]"
            ]
          },
          "metadata": {
            "tags": []
          },
          "execution_count": 162
        }
      ]
    },
    {
      "cell_type": "code",
      "metadata": {
        "id": "KuPk3IV7pHOX",
        "colab_type": "code",
        "colab": {
          "base_uri": "https://localhost:8080/",
          "height": 34
        },
        "outputId": "843c7afe-95da-4409-f3cd-7f8fddf9756d"
      },
      "source": [
        "# The concatenation of layer height and elongation\n",
        "infill_rough = pd.concat([df['infill_density'], df['roughness']])\n",
        "infill_rough1 = pd.DataFrame(infill_rough)\n",
        "\n",
        "infill_rough1.shape"
      ],
      "execution_count": 163,
      "outputs": [
        {
          "output_type": "execute_result",
          "data": {
            "text/plain": [
              "(132, 1)"
            ]
          },
          "metadata": {
            "tags": []
          },
          "execution_count": 163
        }
      ]
    },
    {
      "cell_type": "code",
      "metadata": {
        "id": "sg6F_Dg2rOl4",
        "colab_type": "code",
        "colab": {
          "base_uri": "https://localhost:8080/",
          "height": 197
        },
        "outputId": "9389dd95-71c7-47b0-bde3-1d26c92f6a72"
      },
      "source": [
        "infill_rough1.columns = ['infill_roughness']\n",
        "infill_rough1.head()"
      ],
      "execution_count": 164,
      "outputs": [
        {
          "output_type": "execute_result",
          "data": {
            "text/html": [
              "<div>\n",
              "<style scoped>\n",
              "    .dataframe tbody tr th:only-of-type {\n",
              "        vertical-align: middle;\n",
              "    }\n",
              "\n",
              "    .dataframe tbody tr th {\n",
              "        vertical-align: top;\n",
              "    }\n",
              "\n",
              "    .dataframe thead th {\n",
              "        text-align: right;\n",
              "    }\n",
              "</style>\n",
              "<table border=\"1\" class=\"dataframe\">\n",
              "  <thead>\n",
              "    <tr style=\"text-align: right;\">\n",
              "      <th></th>\n",
              "      <th>infill_roughness</th>\n",
              "    </tr>\n",
              "  </thead>\n",
              "  <tbody>\n",
              "    <tr>\n",
              "      <th>0</th>\n",
              "      <td>90</td>\n",
              "    </tr>\n",
              "    <tr>\n",
              "      <th>1</th>\n",
              "      <td>90</td>\n",
              "    </tr>\n",
              "    <tr>\n",
              "      <th>2</th>\n",
              "      <td>80</td>\n",
              "    </tr>\n",
              "    <tr>\n",
              "      <th>3</th>\n",
              "      <td>70</td>\n",
              "    </tr>\n",
              "    <tr>\n",
              "      <th>4</th>\n",
              "      <td>90</td>\n",
              "    </tr>\n",
              "  </tbody>\n",
              "</table>\n",
              "</div>"
            ],
            "text/plain": [
              "   infill_roughness\n",
              "0                90\n",
              "1                90\n",
              "2                80\n",
              "3                70\n",
              "4                90"
            ]
          },
          "metadata": {
            "tags": []
          },
          "execution_count": 164
        }
      ]
    },
    {
      "cell_type": "code",
      "metadata": {
        "id": "IdgWvjKlhPs2",
        "colab_type": "code",
        "colab": {}
      },
      "source": [
        "# Concatenating speed of printing and fan\n",
        "\n",
        "prin_fan = pd.concat([df['print_speed'], df['fan_speed']])\n",
        "print_fan1 = pd.DataFrame(prin_fan)"
      ],
      "execution_count": 165,
      "outputs": []
    },
    {
      "cell_type": "code",
      "metadata": {
        "id": "8o9nkxs_hvop",
        "colab_type": "code",
        "colab": {
          "base_uri": "https://localhost:8080/",
          "height": 406
        },
        "outputId": "52eda546-140a-412a-89ba-50589a217639"
      },
      "source": [
        "print_fan1.columns = ['Print_Fan_Speed']\n",
        "print_fan1"
      ],
      "execution_count": 166,
      "outputs": [
        {
          "output_type": "execute_result",
          "data": {
            "text/html": [
              "<div>\n",
              "<style scoped>\n",
              "    .dataframe tbody tr th:only-of-type {\n",
              "        vertical-align: middle;\n",
              "    }\n",
              "\n",
              "    .dataframe tbody tr th {\n",
              "        vertical-align: top;\n",
              "    }\n",
              "\n",
              "    .dataframe thead th {\n",
              "        text-align: right;\n",
              "    }\n",
              "</style>\n",
              "<table border=\"1\" class=\"dataframe\">\n",
              "  <thead>\n",
              "    <tr style=\"text-align: right;\">\n",
              "      <th></th>\n",
              "      <th>Print_Fan_Speed</th>\n",
              "    </tr>\n",
              "  </thead>\n",
              "  <tbody>\n",
              "    <tr>\n",
              "      <th>0</th>\n",
              "      <td>40</td>\n",
              "    </tr>\n",
              "    <tr>\n",
              "      <th>1</th>\n",
              "      <td>40</td>\n",
              "    </tr>\n",
              "    <tr>\n",
              "      <th>2</th>\n",
              "      <td>40</td>\n",
              "    </tr>\n",
              "    <tr>\n",
              "      <th>3</th>\n",
              "      <td>40</td>\n",
              "    </tr>\n",
              "    <tr>\n",
              "      <th>4</th>\n",
              "      <td>40</td>\n",
              "    </tr>\n",
              "    <tr>\n",
              "      <th>...</th>\n",
              "      <td>...</td>\n",
              "    </tr>\n",
              "    <tr>\n",
              "      <th>61</th>\n",
              "      <td>75</td>\n",
              "    </tr>\n",
              "    <tr>\n",
              "      <th>62</th>\n",
              "      <td>50</td>\n",
              "    </tr>\n",
              "    <tr>\n",
              "      <th>63</th>\n",
              "      <td>75</td>\n",
              "    </tr>\n",
              "    <tr>\n",
              "      <th>64</th>\n",
              "      <td>75</td>\n",
              "    </tr>\n",
              "    <tr>\n",
              "      <th>65</th>\n",
              "      <td>0</td>\n",
              "    </tr>\n",
              "  </tbody>\n",
              "</table>\n",
              "<p>132 rows × 1 columns</p>\n",
              "</div>"
            ],
            "text/plain": [
              "    Print_Fan_Speed\n",
              "0                40\n",
              "1                40\n",
              "2                40\n",
              "3                40\n",
              "4                40\n",
              "..              ...\n",
              "61               75\n",
              "62               50\n",
              "63               75\n",
              "64               75\n",
              "65                0\n",
              "\n",
              "[132 rows x 1 columns]"
            ]
          },
          "metadata": {
            "tags": []
          },
          "execution_count": 166
        }
      ]
    },
    {
      "cell_type": "code",
      "metadata": {
        "id": "5ZnqSClwhyuD",
        "colab_type": "code",
        "colab": {}
      },
      "source": [
        "# Reshaped dataset to use for graph\n",
        "\n",
        "new_df = pd.concat([noz_bed1, print_fan1, infill_rough1], axis=1, sort=False)"
      ],
      "execution_count": 167,
      "outputs": []
    },
    {
      "cell_type": "code",
      "metadata": {
        "id": "rjlYeCOJipLi",
        "colab_type": "code",
        "colab": {
          "base_uri": "https://localhost:8080/",
          "height": 197
        },
        "outputId": "9bbc4579-96b4-435a-c449-0bd1504839ef"
      },
      "source": [
        "new_df.head()"
      ],
      "execution_count": 168,
      "outputs": [
        {
          "output_type": "execute_result",
          "data": {
            "text/html": [
              "<div>\n",
              "<style scoped>\n",
              "    .dataframe tbody tr th:only-of-type {\n",
              "        vertical-align: middle;\n",
              "    }\n",
              "\n",
              "    .dataframe tbody tr th {\n",
              "        vertical-align: top;\n",
              "    }\n",
              "\n",
              "    .dataframe thead th {\n",
              "        text-align: right;\n",
              "    }\n",
              "</style>\n",
              "<table border=\"1\" class=\"dataframe\">\n",
              "  <thead>\n",
              "    <tr style=\"text-align: right;\">\n",
              "      <th></th>\n",
              "      <th>Nozzle_Bed_Temp</th>\n",
              "      <th>Print_Fan_Speed</th>\n",
              "      <th>infill_roughness</th>\n",
              "    </tr>\n",
              "  </thead>\n",
              "  <tbody>\n",
              "    <tr>\n",
              "      <th>0</th>\n",
              "      <td>60</td>\n",
              "      <td>40</td>\n",
              "      <td>90</td>\n",
              "    </tr>\n",
              "    <tr>\n",
              "      <th>1</th>\n",
              "      <td>65</td>\n",
              "      <td>40</td>\n",
              "      <td>90</td>\n",
              "    </tr>\n",
              "    <tr>\n",
              "      <th>2</th>\n",
              "      <td>70</td>\n",
              "      <td>40</td>\n",
              "      <td>80</td>\n",
              "    </tr>\n",
              "    <tr>\n",
              "      <th>3</th>\n",
              "      <td>75</td>\n",
              "      <td>40</td>\n",
              "      <td>70</td>\n",
              "    </tr>\n",
              "    <tr>\n",
              "      <th>4</th>\n",
              "      <td>80</td>\n",
              "      <td>40</td>\n",
              "      <td>90</td>\n",
              "    </tr>\n",
              "  </tbody>\n",
              "</table>\n",
              "</div>"
            ],
            "text/plain": [
              "   Nozzle_Bed_Temp  Print_Fan_Speed  infill_roughness\n",
              "0               60               40                90\n",
              "1               65               40                90\n",
              "2               70               40                80\n",
              "3               75               40                70\n",
              "4               80               40                90"
            ]
          },
          "metadata": {
            "tags": []
          },
          "execution_count": 168
        }
      ]
    },
    {
      "cell_type": "code",
      "metadata": {
        "id": "9rWqJJrXis1w",
        "colab_type": "code",
        "colab": {
          "base_uri": "https://localhost:8080/",
          "height": 368
        },
        "outputId": "40f8da38-ded9-49dd-af43-c042b4a6405f"
      },
      "source": [
        "# First graph\n",
        "\n",
        "alt.Chart(new_df).mark_point().encode(\n",
        "  x='Nozzle_Bed_Temp',\n",
        "  y='infill_roughness',\n",
        "  color= 'Print_Fan_Speed:N'\n",
        ").interactive()\n"
      ],
      "execution_count": 169,
      "outputs": [
        {
          "output_type": "execute_result",
          "data": {
            "text/plain": [
              "alt.Chart(...)"
            ],
            "text/html": [
              "\n",
              "<div id=\"altair-viz-0afacf9227f44884959855cd5db7cbf9\"></div>\n",
              "<script type=\"text/javascript\">\n",
              "  (function(spec, embedOpt){\n",
              "    let outputDiv = document.currentScript.previousElementSibling;\n",
              "    if (outputDiv.id !== \"altair-viz-0afacf9227f44884959855cd5db7cbf9\") {\n",
              "      outputDiv = document.getElementById(\"altair-viz-0afacf9227f44884959855cd5db7cbf9\");\n",
              "    }\n",
              "    const paths = {\n",
              "      \"vega\": \"https://cdn.jsdelivr.net/npm//vega@5?noext\",\n",
              "      \"vega-lib\": \"https://cdn.jsdelivr.net/npm//vega-lib?noext\",\n",
              "      \"vega-lite\": \"https://cdn.jsdelivr.net/npm//vega-lite@4.8.1?noext\",\n",
              "      \"vega-embed\": \"https://cdn.jsdelivr.net/npm//vega-embed@6?noext\",\n",
              "    };\n",
              "\n",
              "    function loadScript(lib) {\n",
              "      return new Promise(function(resolve, reject) {\n",
              "        var s = document.createElement('script');\n",
              "        s.src = paths[lib];\n",
              "        s.async = true;\n",
              "        s.onload = () => resolve(paths[lib]);\n",
              "        s.onerror = () => reject(`Error loading script: ${paths[lib]}`);\n",
              "        document.getElementsByTagName(\"head\")[0].appendChild(s);\n",
              "      });\n",
              "    }\n",
              "\n",
              "    function showError(err) {\n",
              "      outputDiv.innerHTML = `<div class=\"error\" style=\"color:red;\">${err}</div>`;\n",
              "      throw err;\n",
              "    }\n",
              "\n",
              "    function displayChart(vegaEmbed) {\n",
              "      vegaEmbed(outputDiv, spec, embedOpt)\n",
              "        .catch(err => showError(`Javascript Error: ${err.message}<br>This usually means there's a typo in your chart specification. See the javascript console for the full traceback.`));\n",
              "    }\n",
              "\n",
              "    if(typeof define === \"function\" && define.amd) {\n",
              "      requirejs.config({paths});\n",
              "      require([\"vega-embed\"], displayChart, err => showError(`Error loading script: ${err.message}`));\n",
              "    } else if (typeof vegaEmbed === \"function\") {\n",
              "      displayChart(vegaEmbed);\n",
              "    } else {\n",
              "      loadScript(\"vega\")\n",
              "        .then(() => loadScript(\"vega-lite\"))\n",
              "        .then(() => loadScript(\"vega-embed\"))\n",
              "        .catch(showError)\n",
              "        .then(() => displayChart(vegaEmbed));\n",
              "    }\n",
              "  })({\"config\": {\"view\": {\"continuousWidth\": 400, \"continuousHeight\": 300}}, \"data\": {\"name\": \"data-5167cea56affb5d0891cc832fa285ac4\"}, \"mark\": \"point\", \"encoding\": {\"color\": {\"type\": \"nominal\", \"field\": \"Print_Fan_Speed\"}, \"x\": {\"type\": \"quantitative\", \"field\": \"Nozzle_Bed_Temp\"}, \"y\": {\"type\": \"quantitative\", \"field\": \"infill_roughness\"}}, \"selection\": {\"selector025\": {\"type\": \"interval\", \"bind\": \"scales\", \"encodings\": [\"x\", \"y\"]}}, \"$schema\": \"https://vega.github.io/schema/vega-lite/v4.8.1.json\", \"datasets\": {\"data-5167cea56affb5d0891cc832fa285ac4\": [{\"Nozzle_Bed_Temp\": 60, \"Print_Fan_Speed\": 40, \"infill_roughness\": 90}, {\"Nozzle_Bed_Temp\": 65, \"Print_Fan_Speed\": 40, \"infill_roughness\": 90}, {\"Nozzle_Bed_Temp\": 70, \"Print_Fan_Speed\": 40, \"infill_roughness\": 80}, {\"Nozzle_Bed_Temp\": 75, \"Print_Fan_Speed\": 40, \"infill_roughness\": 70}, {\"Nozzle_Bed_Temp\": 80, \"Print_Fan_Speed\": 40, \"infill_roughness\": 90}, {\"Nozzle_Bed_Temp\": 60, \"Print_Fan_Speed\": 40, \"infill_roughness\": 40}, {\"Nozzle_Bed_Temp\": 100, \"Print_Fan_Speed\": 40, \"infill_roughness\": 90}, {\"Nozzle_Bed_Temp\": 70, \"Print_Fan_Speed\": 40, \"infill_roughness\": 10}, {\"Nozzle_Bed_Temp\": 75, \"Print_Fan_Speed\": 40, \"infill_roughness\": 70}, {\"Nozzle_Bed_Temp\": 80, \"Print_Fan_Speed\": 40, \"infill_roughness\": 40}, {\"Nozzle_Bed_Temp\": 60, \"Print_Fan_Speed\": 60, \"infill_roughness\": 80}, {\"Nozzle_Bed_Temp\": 65, \"Print_Fan_Speed\": 60, \"infill_roughness\": 20}, {\"Nozzle_Bed_Temp\": 70, \"Print_Fan_Speed\": 60, \"infill_roughness\": 50}, {\"Nozzle_Bed_Temp\": 75, \"Print_Fan_Speed\": 60, \"infill_roughness\": 10}, {\"Nozzle_Bed_Temp\": 80, \"Print_Fan_Speed\": 60, \"infill_roughness\": 50}, {\"Nozzle_Bed_Temp\": 60, \"Print_Fan_Speed\": 60, \"infill_roughness\": 90}, {\"Nozzle_Bed_Temp\": 65, \"Print_Fan_Speed\": 60, \"infill_roughness\": 40}, {\"Nozzle_Bed_Temp\": 70, \"Print_Fan_Speed\": 60, \"infill_roughness\": 30}, {\"Nozzle_Bed_Temp\": 95, \"Print_Fan_Speed\": 60, \"infill_roughness\": 90}, {\"Nozzle_Bed_Temp\": 80, \"Print_Fan_Speed\": 60, \"infill_roughness\": 50}, {\"Nozzle_Bed_Temp\": 60, \"Print_Fan_Speed\": 120, \"infill_roughness\": 40}, {\"Nozzle_Bed_Temp\": 65, \"Print_Fan_Speed\": 120, \"infill_roughness\": 30}, {\"Nozzle_Bed_Temp\": 70, \"Print_Fan_Speed\": 120, \"infill_roughness\": 50}, {\"Nozzle_Bed_Temp\": 75, \"Print_Fan_Speed\": 120, \"infill_roughness\": 80}, {\"Nozzle_Bed_Temp\": 80, \"Print_Fan_Speed\": 120, \"infill_roughness\": 60}, {\"Nozzle_Bed_Temp\": 60, \"Print_Fan_Speed\": 120, \"infill_roughness\": 50}, {\"Nozzle_Bed_Temp\": 65, \"Print_Fan_Speed\": 120, \"infill_roughness\": 40}, {\"Nozzle_Bed_Temp\": 70, \"Print_Fan_Speed\": 120, \"infill_roughness\": 50}, {\"Nozzle_Bed_Temp\": 75, \"Print_Fan_Speed\": 120, \"infill_roughness\": 90}, {\"Nozzle_Bed_Temp\": 70, \"Print_Fan_Speed\": 60, \"infill_roughness\": 60}, {\"Nozzle_Bed_Temp\": 60, \"Print_Fan_Speed\": 60, \"infill_roughness\": 50}, {\"Nozzle_Bed_Temp\": 65, \"Print_Fan_Speed\": 60, \"infill_roughness\": 10}, {\"Nozzle_Bed_Temp\": 70, \"Print_Fan_Speed\": 60, \"infill_roughness\": 50}, {\"Nozzle_Bed_Temp\": 75, \"Print_Fan_Speed\": 60, \"infill_roughness\": 50}, {\"Nozzle_Bed_Temp\": 80, \"Print_Fan_Speed\": 60, \"infill_roughness\": 80}, {\"Nozzle_Bed_Temp\": 60, \"Print_Fan_Speed\": 60, \"infill_roughness\": 80}, {\"Nozzle_Bed_Temp\": 65, \"Print_Fan_Speed\": 60, \"infill_roughness\": 50}, {\"Nozzle_Bed_Temp\": 70, \"Print_Fan_Speed\": 60, \"infill_roughness\": 30}, {\"Nozzle_Bed_Temp\": 75, \"Print_Fan_Speed\": 60, \"infill_roughness\": 40}, {\"Nozzle_Bed_Temp\": 80, \"Print_Fan_Speed\": 60, \"infill_roughness\": 10}, {\"Nozzle_Bed_Temp\": 60, \"Print_Fan_Speed\": 40, \"infill_roughness\": 80}, {\"Nozzle_Bed_Temp\": 65, \"Print_Fan_Speed\": 40, \"infill_roughness\": 90}, {\"Nozzle_Bed_Temp\": 70, \"Print_Fan_Speed\": 40, \"infill_roughness\": 30}, {\"Nozzle_Bed_Temp\": 75, \"Print_Fan_Speed\": 40, \"infill_roughness\": 90}, {\"Nozzle_Bed_Temp\": 80, \"Print_Fan_Speed\": 40, \"infill_roughness\": 80}, {\"Nozzle_Bed_Temp\": 60, \"Print_Fan_Speed\": 40, \"infill_roughness\": 60}, {\"Nozzle_Bed_Temp\": 65, \"Print_Fan_Speed\": 40, \"infill_roughness\": 20}, {\"Nozzle_Bed_Temp\": 70, \"Print_Fan_Speed\": 40, \"infill_roughness\": 60}, {\"Nozzle_Bed_Temp\": 75, \"Print_Fan_Speed\": 40, \"infill_roughness\": 40}, {\"Nozzle_Bed_Temp\": 80, \"Print_Fan_Speed\": 40, \"infill_roughness\": 60}, {\"Nozzle_Bed_Temp\": 60, \"Print_Fan_Speed\": 40, \"infill_roughness\": 90}, {\"Nozzle_Bed_Temp\": 60, \"Print_Fan_Speed\": 60, \"infill_roughness\": 20}, {\"Nozzle_Bed_Temp\": 65, \"Print_Fan_Speed\": 40, \"infill_roughness\": 10}, {\"Nozzle_Bed_Temp\": 60, \"Print_Fan_Speed\": 60, \"infill_roughness\": 100}, {\"Nozzle_Bed_Temp\": 65, \"Print_Fan_Speed\": 40, \"infill_roughness\": 12}, {\"Nozzle_Bed_Temp\": 75, \"Print_Fan_Speed\": 120, \"infill_roughness\": 80}, {\"Nozzle_Bed_Temp\": 75, \"Print_Fan_Speed\": 120, \"infill_roughness\": 95}, {\"Nozzle_Bed_Temp\": 65, \"Print_Fan_Speed\": 70, \"infill_roughness\": 10}, {\"Nozzle_Bed_Temp\": 70, \"Print_Fan_Speed\": 60, \"infill_roughness\": 50}, {\"Nozzle_Bed_Temp\": 60, \"Print_Fan_Speed\": 60, \"infill_roughness\": 85}, {\"Nozzle_Bed_Temp\": 80, \"Print_Fan_Speed\": 65, \"infill_roughness\": 50}, {\"Nozzle_Bed_Temp\": 75, \"Print_Fan_Speed\": 80, \"infill_roughness\": 10}, {\"Nozzle_Bed_Temp\": 70, \"Print_Fan_Speed\": 40, \"infill_roughness\": 80}, {\"Nozzle_Bed_Temp\": 85, \"Print_Fan_Speed\": 40, \"infill_roughness\": 70}, {\"Nozzle_Bed_Temp\": 75, \"Print_Fan_Speed\": 85, \"infill_roughness\": 10}, {\"Nozzle_Bed_Temp\": 60, \"Print_Fan_Speed\": 120, \"infill_roughness\": 50}, {\"Nozzle_Bed_Temp\": 220, \"Print_Fan_Speed\": 0, \"infill_roughness\": 25}, {\"Nozzle_Bed_Temp\": 225, \"Print_Fan_Speed\": 25, \"infill_roughness\": 32}, {\"Nozzle_Bed_Temp\": 230, \"Print_Fan_Speed\": 50, \"infill_roughness\": 40}, {\"Nozzle_Bed_Temp\": 240, \"Print_Fan_Speed\": 75, \"infill_roughness\": 68}, {\"Nozzle_Bed_Temp\": 250, \"Print_Fan_Speed\": 100, \"infill_roughness\": 92}, {\"Nozzle_Bed_Temp\": 200, \"Print_Fan_Speed\": 0, \"infill_roughness\": 60}, {\"Nozzle_Bed_Temp\": 250, \"Print_Fan_Speed\": 100, \"infill_roughness\": 98}, {\"Nozzle_Bed_Temp\": 210, \"Print_Fan_Speed\": 50, \"infill_roughness\": 21}, {\"Nozzle_Bed_Temp\": 215, \"Print_Fan_Speed\": 75, \"infill_roughness\": 24}, {\"Nozzle_Bed_Temp\": 220, \"Print_Fan_Speed\": 100, \"infill_roughness\": 30}, {\"Nozzle_Bed_Temp\": 220, \"Print_Fan_Speed\": 0, \"infill_roughness\": 75}, {\"Nozzle_Bed_Temp\": 225, \"Print_Fan_Speed\": 25, \"infill_roughness\": 92}, {\"Nozzle_Bed_Temp\": 230, \"Print_Fan_Speed\": 50, \"infill_roughness\": 118}, {\"Nozzle_Bed_Temp\": 240, \"Print_Fan_Speed\": 75, \"infill_roughness\": 200}, {\"Nozzle_Bed_Temp\": 250, \"Print_Fan_Speed\": 100, \"infill_roughness\": 220}, {\"Nozzle_Bed_Temp\": 200, \"Print_Fan_Speed\": 0, \"infill_roughness\": 126}, {\"Nozzle_Bed_Temp\": 205, \"Print_Fan_Speed\": 25, \"infill_roughness\": 145}, {\"Nozzle_Bed_Temp\": 210, \"Print_Fan_Speed\": 50, \"infill_roughness\": 88}, {\"Nozzle_Bed_Temp\": 215, \"Print_Fan_Speed\": 75, \"infill_roughness\": 92}, {\"Nozzle_Bed_Temp\": 220, \"Print_Fan_Speed\": 100, \"infill_roughness\": 74}, {\"Nozzle_Bed_Temp\": 220, \"Print_Fan_Speed\": 0, \"infill_roughness\": 120}, {\"Nozzle_Bed_Temp\": 225, \"Print_Fan_Speed\": 25, \"infill_roughness\": 144}, {\"Nozzle_Bed_Temp\": 230, \"Print_Fan_Speed\": 50, \"infill_roughness\": 265}, {\"Nozzle_Bed_Temp\": 240, \"Print_Fan_Speed\": 75, \"infill_roughness\": 312}, {\"Nozzle_Bed_Temp\": 250, \"Print_Fan_Speed\": 100, \"infill_roughness\": 368}, {\"Nozzle_Bed_Temp\": 200, \"Print_Fan_Speed\": 0, \"infill_roughness\": 180}, {\"Nozzle_Bed_Temp\": 205, \"Print_Fan_Speed\": 25, \"infill_roughness\": 176}, {\"Nozzle_Bed_Temp\": 210, \"Print_Fan_Speed\": 50, \"infill_roughness\": 128}, {\"Nozzle_Bed_Temp\": 215, \"Print_Fan_Speed\": 75, \"infill_roughness\": 138}, {\"Nozzle_Bed_Temp\": 210, \"Print_Fan_Speed\": 50, \"infill_roughness\": 98}, {\"Nozzle_Bed_Temp\": 220, \"Print_Fan_Speed\": 0, \"infill_roughness\": 168}, {\"Nozzle_Bed_Temp\": 225, \"Print_Fan_Speed\": 25, \"infill_roughness\": 154}, {\"Nozzle_Bed_Temp\": 230, \"Print_Fan_Speed\": 50, \"infill_roughness\": 225}, {\"Nozzle_Bed_Temp\": 240, \"Print_Fan_Speed\": 75, \"infill_roughness\": 289}, {\"Nozzle_Bed_Temp\": 250, \"Print_Fan_Speed\": 100, \"infill_roughness\": 326}, {\"Nozzle_Bed_Temp\": 200, \"Print_Fan_Speed\": 0, \"infill_roughness\": 192}, {\"Nozzle_Bed_Temp\": 205, \"Print_Fan_Speed\": 25, \"infill_roughness\": 212}, {\"Nozzle_Bed_Temp\": 210, \"Print_Fan_Speed\": 50, \"infill_roughness\": 168}, {\"Nozzle_Bed_Temp\": 215, \"Print_Fan_Speed\": 75, \"infill_roughness\": 172}, {\"Nozzle_Bed_Temp\": 220, \"Print_Fan_Speed\": 100, \"infill_roughness\": 163}, {\"Nozzle_Bed_Temp\": 220, \"Print_Fan_Speed\": 0, \"infill_roughness\": 212}, {\"Nozzle_Bed_Temp\": 225, \"Print_Fan_Speed\": 25, \"infill_roughness\": 276}, {\"Nozzle_Bed_Temp\": 230, \"Print_Fan_Speed\": 50, \"infill_roughness\": 298}, {\"Nozzle_Bed_Temp\": 240, \"Print_Fan_Speed\": 75, \"infill_roughness\": 360}, {\"Nozzle_Bed_Temp\": 250, \"Print_Fan_Speed\": 100, \"infill_roughness\": 357}, {\"Nozzle_Bed_Temp\": 200, \"Print_Fan_Speed\": 0, \"infill_roughness\": 321}, {\"Nozzle_Bed_Temp\": 205, \"Print_Fan_Speed\": 25, \"infill_roughness\": 265}, {\"Nozzle_Bed_Temp\": 210, \"Print_Fan_Speed\": 50, \"infill_roughness\": 278}, {\"Nozzle_Bed_Temp\": 215, \"Print_Fan_Speed\": 75, \"infill_roughness\": 244}, {\"Nozzle_Bed_Temp\": 220, \"Print_Fan_Speed\": 100, \"infill_roughness\": 220}, {\"Nozzle_Bed_Temp\": 220, \"Print_Fan_Speed\": 0, \"infill_roughness\": 25}, {\"Nozzle_Bed_Temp\": 220, \"Print_Fan_Speed\": 0, \"infill_roughness\": 75}, {\"Nozzle_Bed_Temp\": 205, \"Print_Fan_Speed\": 25, \"infill_roughness\": 55}, {\"Nozzle_Bed_Temp\": 200, \"Print_Fan_Speed\": 0, \"infill_roughness\": 126}, {\"Nozzle_Bed_Temp\": 205, \"Print_Fan_Speed\": 28, \"infill_roughness\": 55}, {\"Nozzle_Bed_Temp\": 250, \"Print_Fan_Speed\": 75, \"infill_roughness\": 312}, {\"Nozzle_Bed_Temp\": 220, \"Print_Fan_Speed\": 100, \"infill_roughness\": 121}, {\"Nozzle_Bed_Temp\": 225, \"Print_Fan_Speed\": 25, \"infill_roughness\": 154}, {\"Nozzle_Bed_Temp\": 230, \"Print_Fan_Speed\": 50, \"infill_roughness\": 225}, {\"Nozzle_Bed_Temp\": 220, \"Print_Fan_Speed\": 0, \"infill_roughness\": 192}, {\"Nozzle_Bed_Temp\": 230, \"Print_Fan_Speed\": 100, \"infill_roughness\": 74}, {\"Nozzle_Bed_Temp\": 200, \"Print_Fan_Speed\": 75, \"infill_roughness\": 200}, {\"Nozzle_Bed_Temp\": 230, \"Print_Fan_Speed\": 50, \"infill_roughness\": 40}, {\"Nozzle_Bed_Temp\": 240, \"Print_Fan_Speed\": 75, \"infill_roughness\": 68}, {\"Nozzle_Bed_Temp\": 245, \"Print_Fan_Speed\": 75, \"infill_roughness\": 205}, {\"Nozzle_Bed_Temp\": 220, \"Print_Fan_Speed\": 0, \"infill_roughness\": 120}]}}, {\"mode\": \"vega-lite\"});\n",
              "</script>"
            ]
          },
          "metadata": {
            "tags": []
          },
          "execution_count": 169
        }
      ]
    },
    {
      "cell_type": "code",
      "metadata": {
        "id": "Tx3i3I2_A2eQ",
        "colab_type": "code",
        "colab": {}
      },
      "source": [
        "# saving the first graph into html\n",
        "chart = alt.Chart(new_df).mark_point().encode(\n",
        "  x='Nozzle_Bed_Temp',\n",
        "  y='infill_roughness',\n",
        "  color= 'Print_Fan_Speed:N'\n",
        ").interactive()\n",
        "chart.save('chart1.html')"
      ],
      "execution_count": 170,
      "outputs": []
    },
    {
      "cell_type": "code",
      "metadata": {
        "id": "vgG8giCvsVZJ",
        "colab_type": "code",
        "colab": {
          "base_uri": "https://localhost:8080/",
          "height": 368
        },
        "outputId": "aff2e5dc-6d3b-4af0-c19d-9f12f8c634c9"
      },
      "source": [
        "points = alt.Chart(new_df).mark_point().encode(\n",
        "  x='Nozzle_Bed_Temp',\n",
        "  y='Print_Fan_Speed',\n",
        "  color='Print_Fan_Speed:N'\n",
        ").properties(\n",
        "  width=800\n",
        ")\n",
        "\n",
        "lines = alt.Chart(new_df).mark_line().encode(\n",
        "  x='infill_roughness',\n",
        "  y='Print_Fan_Speed',\n",
        "  color='Print_Fan_Speed:N'\n",
        ").properties(\n",
        "  width=800\n",
        ").interactive(bind_y=False)\n",
        "              \n",
        "point_lines = points + lines\n",
        "\n",
        "point_lines"
      ],
      "execution_count": 171,
      "outputs": [
        {
          "output_type": "execute_result",
          "data": {
            "text/plain": [
              "alt.LayerChart(...)"
            ],
            "text/html": [
              "\n",
              "<div id=\"altair-viz-89c40708e1174d6db1255a11d6cce423\"></div>\n",
              "<script type=\"text/javascript\">\n",
              "  (function(spec, embedOpt){\n",
              "    let outputDiv = document.currentScript.previousElementSibling;\n",
              "    if (outputDiv.id !== \"altair-viz-89c40708e1174d6db1255a11d6cce423\") {\n",
              "      outputDiv = document.getElementById(\"altair-viz-89c40708e1174d6db1255a11d6cce423\");\n",
              "    }\n",
              "    const paths = {\n",
              "      \"vega\": \"https://cdn.jsdelivr.net/npm//vega@5?noext\",\n",
              "      \"vega-lib\": \"https://cdn.jsdelivr.net/npm//vega-lib?noext\",\n",
              "      \"vega-lite\": \"https://cdn.jsdelivr.net/npm//vega-lite@4.8.1?noext\",\n",
              "      \"vega-embed\": \"https://cdn.jsdelivr.net/npm//vega-embed@6?noext\",\n",
              "    };\n",
              "\n",
              "    function loadScript(lib) {\n",
              "      return new Promise(function(resolve, reject) {\n",
              "        var s = document.createElement('script');\n",
              "        s.src = paths[lib];\n",
              "        s.async = true;\n",
              "        s.onload = () => resolve(paths[lib]);\n",
              "        s.onerror = () => reject(`Error loading script: ${paths[lib]}`);\n",
              "        document.getElementsByTagName(\"head\")[0].appendChild(s);\n",
              "      });\n",
              "    }\n",
              "\n",
              "    function showError(err) {\n",
              "      outputDiv.innerHTML = `<div class=\"error\" style=\"color:red;\">${err}</div>`;\n",
              "      throw err;\n",
              "    }\n",
              "\n",
              "    function displayChart(vegaEmbed) {\n",
              "      vegaEmbed(outputDiv, spec, embedOpt)\n",
              "        .catch(err => showError(`Javascript Error: ${err.message}<br>This usually means there's a typo in your chart specification. See the javascript console for the full traceback.`));\n",
              "    }\n",
              "\n",
              "    if(typeof define === \"function\" && define.amd) {\n",
              "      requirejs.config({paths});\n",
              "      require([\"vega-embed\"], displayChart, err => showError(`Error loading script: ${err.message}`));\n",
              "    } else if (typeof vegaEmbed === \"function\") {\n",
              "      displayChart(vegaEmbed);\n",
              "    } else {\n",
              "      loadScript(\"vega\")\n",
              "        .then(() => loadScript(\"vega-lite\"))\n",
              "        .then(() => loadScript(\"vega-embed\"))\n",
              "        .catch(showError)\n",
              "        .then(() => displayChart(vegaEmbed));\n",
              "    }\n",
              "  })({\"config\": {\"view\": {\"continuousWidth\": 400, \"continuousHeight\": 300}}, \"layer\": [{\"mark\": \"point\", \"encoding\": {\"color\": {\"type\": \"nominal\", \"field\": \"Print_Fan_Speed\"}, \"x\": {\"type\": \"quantitative\", \"field\": \"Nozzle_Bed_Temp\"}, \"y\": {\"type\": \"quantitative\", \"field\": \"Print_Fan_Speed\"}}, \"width\": 800}, {\"mark\": \"line\", \"encoding\": {\"color\": {\"type\": \"nominal\", \"field\": \"Print_Fan_Speed\"}, \"x\": {\"type\": \"quantitative\", \"field\": \"infill_roughness\"}, \"y\": {\"type\": \"quantitative\", \"field\": \"Print_Fan_Speed\"}}, \"selection\": {\"selector027\": {\"type\": \"interval\", \"bind\": \"scales\", \"encodings\": [\"x\"]}}, \"width\": 800}], \"data\": {\"name\": \"data-5167cea56affb5d0891cc832fa285ac4\"}, \"$schema\": \"https://vega.github.io/schema/vega-lite/v4.8.1.json\", \"datasets\": {\"data-5167cea56affb5d0891cc832fa285ac4\": [{\"Nozzle_Bed_Temp\": 60, \"Print_Fan_Speed\": 40, \"infill_roughness\": 90}, {\"Nozzle_Bed_Temp\": 65, \"Print_Fan_Speed\": 40, \"infill_roughness\": 90}, {\"Nozzle_Bed_Temp\": 70, \"Print_Fan_Speed\": 40, \"infill_roughness\": 80}, {\"Nozzle_Bed_Temp\": 75, \"Print_Fan_Speed\": 40, \"infill_roughness\": 70}, {\"Nozzle_Bed_Temp\": 80, \"Print_Fan_Speed\": 40, \"infill_roughness\": 90}, {\"Nozzle_Bed_Temp\": 60, \"Print_Fan_Speed\": 40, \"infill_roughness\": 40}, {\"Nozzle_Bed_Temp\": 100, \"Print_Fan_Speed\": 40, \"infill_roughness\": 90}, {\"Nozzle_Bed_Temp\": 70, \"Print_Fan_Speed\": 40, \"infill_roughness\": 10}, {\"Nozzle_Bed_Temp\": 75, \"Print_Fan_Speed\": 40, \"infill_roughness\": 70}, {\"Nozzle_Bed_Temp\": 80, \"Print_Fan_Speed\": 40, \"infill_roughness\": 40}, {\"Nozzle_Bed_Temp\": 60, \"Print_Fan_Speed\": 60, \"infill_roughness\": 80}, {\"Nozzle_Bed_Temp\": 65, \"Print_Fan_Speed\": 60, \"infill_roughness\": 20}, {\"Nozzle_Bed_Temp\": 70, \"Print_Fan_Speed\": 60, \"infill_roughness\": 50}, {\"Nozzle_Bed_Temp\": 75, \"Print_Fan_Speed\": 60, \"infill_roughness\": 10}, {\"Nozzle_Bed_Temp\": 80, \"Print_Fan_Speed\": 60, \"infill_roughness\": 50}, {\"Nozzle_Bed_Temp\": 60, \"Print_Fan_Speed\": 60, \"infill_roughness\": 90}, {\"Nozzle_Bed_Temp\": 65, \"Print_Fan_Speed\": 60, \"infill_roughness\": 40}, {\"Nozzle_Bed_Temp\": 70, \"Print_Fan_Speed\": 60, \"infill_roughness\": 30}, {\"Nozzle_Bed_Temp\": 95, \"Print_Fan_Speed\": 60, \"infill_roughness\": 90}, {\"Nozzle_Bed_Temp\": 80, \"Print_Fan_Speed\": 60, \"infill_roughness\": 50}, {\"Nozzle_Bed_Temp\": 60, \"Print_Fan_Speed\": 120, \"infill_roughness\": 40}, {\"Nozzle_Bed_Temp\": 65, \"Print_Fan_Speed\": 120, \"infill_roughness\": 30}, {\"Nozzle_Bed_Temp\": 70, \"Print_Fan_Speed\": 120, \"infill_roughness\": 50}, {\"Nozzle_Bed_Temp\": 75, \"Print_Fan_Speed\": 120, \"infill_roughness\": 80}, {\"Nozzle_Bed_Temp\": 80, \"Print_Fan_Speed\": 120, \"infill_roughness\": 60}, {\"Nozzle_Bed_Temp\": 60, \"Print_Fan_Speed\": 120, \"infill_roughness\": 50}, {\"Nozzle_Bed_Temp\": 65, \"Print_Fan_Speed\": 120, \"infill_roughness\": 40}, {\"Nozzle_Bed_Temp\": 70, \"Print_Fan_Speed\": 120, \"infill_roughness\": 50}, {\"Nozzle_Bed_Temp\": 75, \"Print_Fan_Speed\": 120, \"infill_roughness\": 90}, {\"Nozzle_Bed_Temp\": 70, \"Print_Fan_Speed\": 60, \"infill_roughness\": 60}, {\"Nozzle_Bed_Temp\": 60, \"Print_Fan_Speed\": 60, \"infill_roughness\": 50}, {\"Nozzle_Bed_Temp\": 65, \"Print_Fan_Speed\": 60, \"infill_roughness\": 10}, {\"Nozzle_Bed_Temp\": 70, \"Print_Fan_Speed\": 60, \"infill_roughness\": 50}, {\"Nozzle_Bed_Temp\": 75, \"Print_Fan_Speed\": 60, \"infill_roughness\": 50}, {\"Nozzle_Bed_Temp\": 80, \"Print_Fan_Speed\": 60, \"infill_roughness\": 80}, {\"Nozzle_Bed_Temp\": 60, \"Print_Fan_Speed\": 60, \"infill_roughness\": 80}, {\"Nozzle_Bed_Temp\": 65, \"Print_Fan_Speed\": 60, \"infill_roughness\": 50}, {\"Nozzle_Bed_Temp\": 70, \"Print_Fan_Speed\": 60, \"infill_roughness\": 30}, {\"Nozzle_Bed_Temp\": 75, \"Print_Fan_Speed\": 60, \"infill_roughness\": 40}, {\"Nozzle_Bed_Temp\": 80, \"Print_Fan_Speed\": 60, \"infill_roughness\": 10}, {\"Nozzle_Bed_Temp\": 60, \"Print_Fan_Speed\": 40, \"infill_roughness\": 80}, {\"Nozzle_Bed_Temp\": 65, \"Print_Fan_Speed\": 40, \"infill_roughness\": 90}, {\"Nozzle_Bed_Temp\": 70, \"Print_Fan_Speed\": 40, \"infill_roughness\": 30}, {\"Nozzle_Bed_Temp\": 75, \"Print_Fan_Speed\": 40, \"infill_roughness\": 90}, {\"Nozzle_Bed_Temp\": 80, \"Print_Fan_Speed\": 40, \"infill_roughness\": 80}, {\"Nozzle_Bed_Temp\": 60, \"Print_Fan_Speed\": 40, \"infill_roughness\": 60}, {\"Nozzle_Bed_Temp\": 65, \"Print_Fan_Speed\": 40, \"infill_roughness\": 20}, {\"Nozzle_Bed_Temp\": 70, \"Print_Fan_Speed\": 40, \"infill_roughness\": 60}, {\"Nozzle_Bed_Temp\": 75, \"Print_Fan_Speed\": 40, \"infill_roughness\": 40}, {\"Nozzle_Bed_Temp\": 80, \"Print_Fan_Speed\": 40, \"infill_roughness\": 60}, {\"Nozzle_Bed_Temp\": 60, \"Print_Fan_Speed\": 40, \"infill_roughness\": 90}, {\"Nozzle_Bed_Temp\": 60, \"Print_Fan_Speed\": 60, \"infill_roughness\": 20}, {\"Nozzle_Bed_Temp\": 65, \"Print_Fan_Speed\": 40, \"infill_roughness\": 10}, {\"Nozzle_Bed_Temp\": 60, \"Print_Fan_Speed\": 60, \"infill_roughness\": 100}, {\"Nozzle_Bed_Temp\": 65, \"Print_Fan_Speed\": 40, \"infill_roughness\": 12}, {\"Nozzle_Bed_Temp\": 75, \"Print_Fan_Speed\": 120, \"infill_roughness\": 80}, {\"Nozzle_Bed_Temp\": 75, \"Print_Fan_Speed\": 120, \"infill_roughness\": 95}, {\"Nozzle_Bed_Temp\": 65, \"Print_Fan_Speed\": 70, \"infill_roughness\": 10}, {\"Nozzle_Bed_Temp\": 70, \"Print_Fan_Speed\": 60, \"infill_roughness\": 50}, {\"Nozzle_Bed_Temp\": 60, \"Print_Fan_Speed\": 60, \"infill_roughness\": 85}, {\"Nozzle_Bed_Temp\": 80, \"Print_Fan_Speed\": 65, \"infill_roughness\": 50}, {\"Nozzle_Bed_Temp\": 75, \"Print_Fan_Speed\": 80, \"infill_roughness\": 10}, {\"Nozzle_Bed_Temp\": 70, \"Print_Fan_Speed\": 40, \"infill_roughness\": 80}, {\"Nozzle_Bed_Temp\": 85, \"Print_Fan_Speed\": 40, \"infill_roughness\": 70}, {\"Nozzle_Bed_Temp\": 75, \"Print_Fan_Speed\": 85, \"infill_roughness\": 10}, {\"Nozzle_Bed_Temp\": 60, \"Print_Fan_Speed\": 120, \"infill_roughness\": 50}, {\"Nozzle_Bed_Temp\": 220, \"Print_Fan_Speed\": 0, \"infill_roughness\": 25}, {\"Nozzle_Bed_Temp\": 225, \"Print_Fan_Speed\": 25, \"infill_roughness\": 32}, {\"Nozzle_Bed_Temp\": 230, \"Print_Fan_Speed\": 50, \"infill_roughness\": 40}, {\"Nozzle_Bed_Temp\": 240, \"Print_Fan_Speed\": 75, \"infill_roughness\": 68}, {\"Nozzle_Bed_Temp\": 250, \"Print_Fan_Speed\": 100, \"infill_roughness\": 92}, {\"Nozzle_Bed_Temp\": 200, \"Print_Fan_Speed\": 0, \"infill_roughness\": 60}, {\"Nozzle_Bed_Temp\": 250, \"Print_Fan_Speed\": 100, \"infill_roughness\": 98}, {\"Nozzle_Bed_Temp\": 210, \"Print_Fan_Speed\": 50, \"infill_roughness\": 21}, {\"Nozzle_Bed_Temp\": 215, \"Print_Fan_Speed\": 75, \"infill_roughness\": 24}, {\"Nozzle_Bed_Temp\": 220, \"Print_Fan_Speed\": 100, \"infill_roughness\": 30}, {\"Nozzle_Bed_Temp\": 220, \"Print_Fan_Speed\": 0, \"infill_roughness\": 75}, {\"Nozzle_Bed_Temp\": 225, \"Print_Fan_Speed\": 25, \"infill_roughness\": 92}, {\"Nozzle_Bed_Temp\": 230, \"Print_Fan_Speed\": 50, \"infill_roughness\": 118}, {\"Nozzle_Bed_Temp\": 240, \"Print_Fan_Speed\": 75, \"infill_roughness\": 200}, {\"Nozzle_Bed_Temp\": 250, \"Print_Fan_Speed\": 100, \"infill_roughness\": 220}, {\"Nozzle_Bed_Temp\": 200, \"Print_Fan_Speed\": 0, \"infill_roughness\": 126}, {\"Nozzle_Bed_Temp\": 205, \"Print_Fan_Speed\": 25, \"infill_roughness\": 145}, {\"Nozzle_Bed_Temp\": 210, \"Print_Fan_Speed\": 50, \"infill_roughness\": 88}, {\"Nozzle_Bed_Temp\": 215, \"Print_Fan_Speed\": 75, \"infill_roughness\": 92}, {\"Nozzle_Bed_Temp\": 220, \"Print_Fan_Speed\": 100, \"infill_roughness\": 74}, {\"Nozzle_Bed_Temp\": 220, \"Print_Fan_Speed\": 0, \"infill_roughness\": 120}, {\"Nozzle_Bed_Temp\": 225, \"Print_Fan_Speed\": 25, \"infill_roughness\": 144}, {\"Nozzle_Bed_Temp\": 230, \"Print_Fan_Speed\": 50, \"infill_roughness\": 265}, {\"Nozzle_Bed_Temp\": 240, \"Print_Fan_Speed\": 75, \"infill_roughness\": 312}, {\"Nozzle_Bed_Temp\": 250, \"Print_Fan_Speed\": 100, \"infill_roughness\": 368}, {\"Nozzle_Bed_Temp\": 200, \"Print_Fan_Speed\": 0, \"infill_roughness\": 180}, {\"Nozzle_Bed_Temp\": 205, \"Print_Fan_Speed\": 25, \"infill_roughness\": 176}, {\"Nozzle_Bed_Temp\": 210, \"Print_Fan_Speed\": 50, \"infill_roughness\": 128}, {\"Nozzle_Bed_Temp\": 215, \"Print_Fan_Speed\": 75, \"infill_roughness\": 138}, {\"Nozzle_Bed_Temp\": 210, \"Print_Fan_Speed\": 50, \"infill_roughness\": 98}, {\"Nozzle_Bed_Temp\": 220, \"Print_Fan_Speed\": 0, \"infill_roughness\": 168}, {\"Nozzle_Bed_Temp\": 225, \"Print_Fan_Speed\": 25, \"infill_roughness\": 154}, {\"Nozzle_Bed_Temp\": 230, \"Print_Fan_Speed\": 50, \"infill_roughness\": 225}, {\"Nozzle_Bed_Temp\": 240, \"Print_Fan_Speed\": 75, \"infill_roughness\": 289}, {\"Nozzle_Bed_Temp\": 250, \"Print_Fan_Speed\": 100, \"infill_roughness\": 326}, {\"Nozzle_Bed_Temp\": 200, \"Print_Fan_Speed\": 0, \"infill_roughness\": 192}, {\"Nozzle_Bed_Temp\": 205, \"Print_Fan_Speed\": 25, \"infill_roughness\": 212}, {\"Nozzle_Bed_Temp\": 210, \"Print_Fan_Speed\": 50, \"infill_roughness\": 168}, {\"Nozzle_Bed_Temp\": 215, \"Print_Fan_Speed\": 75, \"infill_roughness\": 172}, {\"Nozzle_Bed_Temp\": 220, \"Print_Fan_Speed\": 100, \"infill_roughness\": 163}, {\"Nozzle_Bed_Temp\": 220, \"Print_Fan_Speed\": 0, \"infill_roughness\": 212}, {\"Nozzle_Bed_Temp\": 225, \"Print_Fan_Speed\": 25, \"infill_roughness\": 276}, {\"Nozzle_Bed_Temp\": 230, \"Print_Fan_Speed\": 50, \"infill_roughness\": 298}, {\"Nozzle_Bed_Temp\": 240, \"Print_Fan_Speed\": 75, \"infill_roughness\": 360}, {\"Nozzle_Bed_Temp\": 250, \"Print_Fan_Speed\": 100, \"infill_roughness\": 357}, {\"Nozzle_Bed_Temp\": 200, \"Print_Fan_Speed\": 0, \"infill_roughness\": 321}, {\"Nozzle_Bed_Temp\": 205, \"Print_Fan_Speed\": 25, \"infill_roughness\": 265}, {\"Nozzle_Bed_Temp\": 210, \"Print_Fan_Speed\": 50, \"infill_roughness\": 278}, {\"Nozzle_Bed_Temp\": 215, \"Print_Fan_Speed\": 75, \"infill_roughness\": 244}, {\"Nozzle_Bed_Temp\": 220, \"Print_Fan_Speed\": 100, \"infill_roughness\": 220}, {\"Nozzle_Bed_Temp\": 220, \"Print_Fan_Speed\": 0, \"infill_roughness\": 25}, {\"Nozzle_Bed_Temp\": 220, \"Print_Fan_Speed\": 0, \"infill_roughness\": 75}, {\"Nozzle_Bed_Temp\": 205, \"Print_Fan_Speed\": 25, \"infill_roughness\": 55}, {\"Nozzle_Bed_Temp\": 200, \"Print_Fan_Speed\": 0, \"infill_roughness\": 126}, {\"Nozzle_Bed_Temp\": 205, \"Print_Fan_Speed\": 28, \"infill_roughness\": 55}, {\"Nozzle_Bed_Temp\": 250, \"Print_Fan_Speed\": 75, \"infill_roughness\": 312}, {\"Nozzle_Bed_Temp\": 220, \"Print_Fan_Speed\": 100, \"infill_roughness\": 121}, {\"Nozzle_Bed_Temp\": 225, \"Print_Fan_Speed\": 25, \"infill_roughness\": 154}, {\"Nozzle_Bed_Temp\": 230, \"Print_Fan_Speed\": 50, \"infill_roughness\": 225}, {\"Nozzle_Bed_Temp\": 220, \"Print_Fan_Speed\": 0, \"infill_roughness\": 192}, {\"Nozzle_Bed_Temp\": 230, \"Print_Fan_Speed\": 100, \"infill_roughness\": 74}, {\"Nozzle_Bed_Temp\": 200, \"Print_Fan_Speed\": 75, \"infill_roughness\": 200}, {\"Nozzle_Bed_Temp\": 230, \"Print_Fan_Speed\": 50, \"infill_roughness\": 40}, {\"Nozzle_Bed_Temp\": 240, \"Print_Fan_Speed\": 75, \"infill_roughness\": 68}, {\"Nozzle_Bed_Temp\": 245, \"Print_Fan_Speed\": 75, \"infill_roughness\": 205}, {\"Nozzle_Bed_Temp\": 220, \"Print_Fan_Speed\": 0, \"infill_roughness\": 120}]}}, {\"mode\": \"vega-lite\"});\n",
              "</script>"
            ]
          },
          "metadata": {
            "tags": []
          },
          "execution_count": 171
        }
      ]
    },
    {
      "cell_type": "code",
      "metadata": {
        "id": "rnA4m3AGQSsD",
        "colab_type": "code",
        "colab": {}
      },
      "source": [
        "# Saving the point lines chart in html\n",
        "point_lines.save('Point_Lines.html')"
      ],
      "execution_count": 172,
      "outputs": []
    },
    {
      "cell_type": "code",
      "metadata": {
        "id": "cTG6sTqxTTOd",
        "colab_type": "code",
        "colab": {
          "base_uri": "https://localhost:8080/",
          "height": 363
        },
        "outputId": "95592408-6a11-42e7-aa09-f178bcda137e"
      },
      "source": [
        "source = new_df\n",
        "\n",
        "alt.Chart(source).transform_fold(\n",
        "    ['Nozzle_Bed_Temp', 'Print_Fan_Speed', 'infill_roughness'],\n",
        "    as_=['Experiment', 'Measurement']\n",
        ").mark_area(\n",
        "    opacity=0.3,\n",
        "    interpolate='step'\n",
        ").encode(\n",
        "    alt.X('Measurement:Q', bin=alt.Bin(maxbins=100)),\n",
        "    alt.Y('count()', stack=None),\n",
        "    alt.Color('Experiment:N')\n",
        ")"
      ],
      "execution_count": 173,
      "outputs": [
        {
          "output_type": "execute_result",
          "data": {
            "text/plain": [
              "alt.Chart(...)"
            ],
            "text/html": [
              "\n",
              "<div id=\"altair-viz-d582d8b8886142eebb84b1507792094a\"></div>\n",
              "<script type=\"text/javascript\">\n",
              "  (function(spec, embedOpt){\n",
              "    let outputDiv = document.currentScript.previousElementSibling;\n",
              "    if (outputDiv.id !== \"altair-viz-d582d8b8886142eebb84b1507792094a\") {\n",
              "      outputDiv = document.getElementById(\"altair-viz-d582d8b8886142eebb84b1507792094a\");\n",
              "    }\n",
              "    const paths = {\n",
              "      \"vega\": \"https://cdn.jsdelivr.net/npm//vega@5?noext\",\n",
              "      \"vega-lib\": \"https://cdn.jsdelivr.net/npm//vega-lib?noext\",\n",
              "      \"vega-lite\": \"https://cdn.jsdelivr.net/npm//vega-lite@4.8.1?noext\",\n",
              "      \"vega-embed\": \"https://cdn.jsdelivr.net/npm//vega-embed@6?noext\",\n",
              "    };\n",
              "\n",
              "    function loadScript(lib) {\n",
              "      return new Promise(function(resolve, reject) {\n",
              "        var s = document.createElement('script');\n",
              "        s.src = paths[lib];\n",
              "        s.async = true;\n",
              "        s.onload = () => resolve(paths[lib]);\n",
              "        s.onerror = () => reject(`Error loading script: ${paths[lib]}`);\n",
              "        document.getElementsByTagName(\"head\")[0].appendChild(s);\n",
              "      });\n",
              "    }\n",
              "\n",
              "    function showError(err) {\n",
              "      outputDiv.innerHTML = `<div class=\"error\" style=\"color:red;\">${err}</div>`;\n",
              "      throw err;\n",
              "    }\n",
              "\n",
              "    function displayChart(vegaEmbed) {\n",
              "      vegaEmbed(outputDiv, spec, embedOpt)\n",
              "        .catch(err => showError(`Javascript Error: ${err.message}<br>This usually means there's a typo in your chart specification. See the javascript console for the full traceback.`));\n",
              "    }\n",
              "\n",
              "    if(typeof define === \"function\" && define.amd) {\n",
              "      requirejs.config({paths});\n",
              "      require([\"vega-embed\"], displayChart, err => showError(`Error loading script: ${err.message}`));\n",
              "    } else if (typeof vegaEmbed === \"function\") {\n",
              "      displayChart(vegaEmbed);\n",
              "    } else {\n",
              "      loadScript(\"vega\")\n",
              "        .then(() => loadScript(\"vega-lite\"))\n",
              "        .then(() => loadScript(\"vega-embed\"))\n",
              "        .catch(showError)\n",
              "        .then(() => displayChart(vegaEmbed));\n",
              "    }\n",
              "  })({\"config\": {\"view\": {\"continuousWidth\": 400, \"continuousHeight\": 300}}, \"data\": {\"name\": \"data-5167cea56affb5d0891cc832fa285ac4\"}, \"mark\": {\"type\": \"area\", \"interpolate\": \"step\", \"opacity\": 0.3}, \"encoding\": {\"color\": {\"type\": \"nominal\", \"field\": \"Experiment\"}, \"x\": {\"type\": \"quantitative\", \"bin\": {\"maxbins\": 100}, \"field\": \"Measurement\"}, \"y\": {\"type\": \"quantitative\", \"aggregate\": \"count\", \"stack\": null}}, \"transform\": [{\"fold\": [\"Nozzle_Bed_Temp\", \"Print_Fan_Speed\", \"infill_roughness\"], \"as\": [\"Experiment\", \"Measurement\"]}], \"$schema\": \"https://vega.github.io/schema/vega-lite/v4.8.1.json\", \"datasets\": {\"data-5167cea56affb5d0891cc832fa285ac4\": [{\"Nozzle_Bed_Temp\": 60, \"Print_Fan_Speed\": 40, \"infill_roughness\": 90}, {\"Nozzle_Bed_Temp\": 65, \"Print_Fan_Speed\": 40, \"infill_roughness\": 90}, {\"Nozzle_Bed_Temp\": 70, \"Print_Fan_Speed\": 40, \"infill_roughness\": 80}, {\"Nozzle_Bed_Temp\": 75, \"Print_Fan_Speed\": 40, \"infill_roughness\": 70}, {\"Nozzle_Bed_Temp\": 80, \"Print_Fan_Speed\": 40, \"infill_roughness\": 90}, {\"Nozzle_Bed_Temp\": 60, \"Print_Fan_Speed\": 40, \"infill_roughness\": 40}, {\"Nozzle_Bed_Temp\": 100, \"Print_Fan_Speed\": 40, \"infill_roughness\": 90}, {\"Nozzle_Bed_Temp\": 70, \"Print_Fan_Speed\": 40, \"infill_roughness\": 10}, {\"Nozzle_Bed_Temp\": 75, \"Print_Fan_Speed\": 40, \"infill_roughness\": 70}, {\"Nozzle_Bed_Temp\": 80, \"Print_Fan_Speed\": 40, \"infill_roughness\": 40}, {\"Nozzle_Bed_Temp\": 60, \"Print_Fan_Speed\": 60, \"infill_roughness\": 80}, {\"Nozzle_Bed_Temp\": 65, \"Print_Fan_Speed\": 60, \"infill_roughness\": 20}, {\"Nozzle_Bed_Temp\": 70, \"Print_Fan_Speed\": 60, \"infill_roughness\": 50}, {\"Nozzle_Bed_Temp\": 75, \"Print_Fan_Speed\": 60, \"infill_roughness\": 10}, {\"Nozzle_Bed_Temp\": 80, \"Print_Fan_Speed\": 60, \"infill_roughness\": 50}, {\"Nozzle_Bed_Temp\": 60, \"Print_Fan_Speed\": 60, \"infill_roughness\": 90}, {\"Nozzle_Bed_Temp\": 65, \"Print_Fan_Speed\": 60, \"infill_roughness\": 40}, {\"Nozzle_Bed_Temp\": 70, \"Print_Fan_Speed\": 60, \"infill_roughness\": 30}, {\"Nozzle_Bed_Temp\": 95, \"Print_Fan_Speed\": 60, \"infill_roughness\": 90}, {\"Nozzle_Bed_Temp\": 80, \"Print_Fan_Speed\": 60, \"infill_roughness\": 50}, {\"Nozzle_Bed_Temp\": 60, \"Print_Fan_Speed\": 120, \"infill_roughness\": 40}, {\"Nozzle_Bed_Temp\": 65, \"Print_Fan_Speed\": 120, \"infill_roughness\": 30}, {\"Nozzle_Bed_Temp\": 70, \"Print_Fan_Speed\": 120, \"infill_roughness\": 50}, {\"Nozzle_Bed_Temp\": 75, \"Print_Fan_Speed\": 120, \"infill_roughness\": 80}, {\"Nozzle_Bed_Temp\": 80, \"Print_Fan_Speed\": 120, \"infill_roughness\": 60}, {\"Nozzle_Bed_Temp\": 60, \"Print_Fan_Speed\": 120, \"infill_roughness\": 50}, {\"Nozzle_Bed_Temp\": 65, \"Print_Fan_Speed\": 120, \"infill_roughness\": 40}, {\"Nozzle_Bed_Temp\": 70, \"Print_Fan_Speed\": 120, \"infill_roughness\": 50}, {\"Nozzle_Bed_Temp\": 75, \"Print_Fan_Speed\": 120, \"infill_roughness\": 90}, {\"Nozzle_Bed_Temp\": 70, \"Print_Fan_Speed\": 60, \"infill_roughness\": 60}, {\"Nozzle_Bed_Temp\": 60, \"Print_Fan_Speed\": 60, \"infill_roughness\": 50}, {\"Nozzle_Bed_Temp\": 65, \"Print_Fan_Speed\": 60, \"infill_roughness\": 10}, {\"Nozzle_Bed_Temp\": 70, \"Print_Fan_Speed\": 60, \"infill_roughness\": 50}, {\"Nozzle_Bed_Temp\": 75, \"Print_Fan_Speed\": 60, \"infill_roughness\": 50}, {\"Nozzle_Bed_Temp\": 80, \"Print_Fan_Speed\": 60, \"infill_roughness\": 80}, {\"Nozzle_Bed_Temp\": 60, \"Print_Fan_Speed\": 60, \"infill_roughness\": 80}, {\"Nozzle_Bed_Temp\": 65, \"Print_Fan_Speed\": 60, \"infill_roughness\": 50}, {\"Nozzle_Bed_Temp\": 70, \"Print_Fan_Speed\": 60, \"infill_roughness\": 30}, {\"Nozzle_Bed_Temp\": 75, \"Print_Fan_Speed\": 60, \"infill_roughness\": 40}, {\"Nozzle_Bed_Temp\": 80, \"Print_Fan_Speed\": 60, \"infill_roughness\": 10}, {\"Nozzle_Bed_Temp\": 60, \"Print_Fan_Speed\": 40, \"infill_roughness\": 80}, {\"Nozzle_Bed_Temp\": 65, \"Print_Fan_Speed\": 40, \"infill_roughness\": 90}, {\"Nozzle_Bed_Temp\": 70, \"Print_Fan_Speed\": 40, \"infill_roughness\": 30}, {\"Nozzle_Bed_Temp\": 75, \"Print_Fan_Speed\": 40, \"infill_roughness\": 90}, {\"Nozzle_Bed_Temp\": 80, \"Print_Fan_Speed\": 40, \"infill_roughness\": 80}, {\"Nozzle_Bed_Temp\": 60, \"Print_Fan_Speed\": 40, \"infill_roughness\": 60}, {\"Nozzle_Bed_Temp\": 65, \"Print_Fan_Speed\": 40, \"infill_roughness\": 20}, {\"Nozzle_Bed_Temp\": 70, \"Print_Fan_Speed\": 40, \"infill_roughness\": 60}, {\"Nozzle_Bed_Temp\": 75, \"Print_Fan_Speed\": 40, \"infill_roughness\": 40}, {\"Nozzle_Bed_Temp\": 80, \"Print_Fan_Speed\": 40, \"infill_roughness\": 60}, {\"Nozzle_Bed_Temp\": 60, \"Print_Fan_Speed\": 40, \"infill_roughness\": 90}, {\"Nozzle_Bed_Temp\": 60, \"Print_Fan_Speed\": 60, \"infill_roughness\": 20}, {\"Nozzle_Bed_Temp\": 65, \"Print_Fan_Speed\": 40, \"infill_roughness\": 10}, {\"Nozzle_Bed_Temp\": 60, \"Print_Fan_Speed\": 60, \"infill_roughness\": 100}, {\"Nozzle_Bed_Temp\": 65, \"Print_Fan_Speed\": 40, \"infill_roughness\": 12}, {\"Nozzle_Bed_Temp\": 75, \"Print_Fan_Speed\": 120, \"infill_roughness\": 80}, {\"Nozzle_Bed_Temp\": 75, \"Print_Fan_Speed\": 120, \"infill_roughness\": 95}, {\"Nozzle_Bed_Temp\": 65, \"Print_Fan_Speed\": 70, \"infill_roughness\": 10}, {\"Nozzle_Bed_Temp\": 70, \"Print_Fan_Speed\": 60, \"infill_roughness\": 50}, {\"Nozzle_Bed_Temp\": 60, \"Print_Fan_Speed\": 60, \"infill_roughness\": 85}, {\"Nozzle_Bed_Temp\": 80, \"Print_Fan_Speed\": 65, \"infill_roughness\": 50}, {\"Nozzle_Bed_Temp\": 75, \"Print_Fan_Speed\": 80, \"infill_roughness\": 10}, {\"Nozzle_Bed_Temp\": 70, \"Print_Fan_Speed\": 40, \"infill_roughness\": 80}, {\"Nozzle_Bed_Temp\": 85, \"Print_Fan_Speed\": 40, \"infill_roughness\": 70}, {\"Nozzle_Bed_Temp\": 75, \"Print_Fan_Speed\": 85, \"infill_roughness\": 10}, {\"Nozzle_Bed_Temp\": 60, \"Print_Fan_Speed\": 120, \"infill_roughness\": 50}, {\"Nozzle_Bed_Temp\": 220, \"Print_Fan_Speed\": 0, \"infill_roughness\": 25}, {\"Nozzle_Bed_Temp\": 225, \"Print_Fan_Speed\": 25, \"infill_roughness\": 32}, {\"Nozzle_Bed_Temp\": 230, \"Print_Fan_Speed\": 50, \"infill_roughness\": 40}, {\"Nozzle_Bed_Temp\": 240, \"Print_Fan_Speed\": 75, \"infill_roughness\": 68}, {\"Nozzle_Bed_Temp\": 250, \"Print_Fan_Speed\": 100, \"infill_roughness\": 92}, {\"Nozzle_Bed_Temp\": 200, \"Print_Fan_Speed\": 0, \"infill_roughness\": 60}, {\"Nozzle_Bed_Temp\": 250, \"Print_Fan_Speed\": 100, \"infill_roughness\": 98}, {\"Nozzle_Bed_Temp\": 210, \"Print_Fan_Speed\": 50, \"infill_roughness\": 21}, {\"Nozzle_Bed_Temp\": 215, \"Print_Fan_Speed\": 75, \"infill_roughness\": 24}, {\"Nozzle_Bed_Temp\": 220, \"Print_Fan_Speed\": 100, \"infill_roughness\": 30}, {\"Nozzle_Bed_Temp\": 220, \"Print_Fan_Speed\": 0, \"infill_roughness\": 75}, {\"Nozzle_Bed_Temp\": 225, \"Print_Fan_Speed\": 25, \"infill_roughness\": 92}, {\"Nozzle_Bed_Temp\": 230, \"Print_Fan_Speed\": 50, \"infill_roughness\": 118}, {\"Nozzle_Bed_Temp\": 240, \"Print_Fan_Speed\": 75, \"infill_roughness\": 200}, {\"Nozzle_Bed_Temp\": 250, \"Print_Fan_Speed\": 100, \"infill_roughness\": 220}, {\"Nozzle_Bed_Temp\": 200, \"Print_Fan_Speed\": 0, \"infill_roughness\": 126}, {\"Nozzle_Bed_Temp\": 205, \"Print_Fan_Speed\": 25, \"infill_roughness\": 145}, {\"Nozzle_Bed_Temp\": 210, \"Print_Fan_Speed\": 50, \"infill_roughness\": 88}, {\"Nozzle_Bed_Temp\": 215, \"Print_Fan_Speed\": 75, \"infill_roughness\": 92}, {\"Nozzle_Bed_Temp\": 220, \"Print_Fan_Speed\": 100, \"infill_roughness\": 74}, {\"Nozzle_Bed_Temp\": 220, \"Print_Fan_Speed\": 0, \"infill_roughness\": 120}, {\"Nozzle_Bed_Temp\": 225, \"Print_Fan_Speed\": 25, \"infill_roughness\": 144}, {\"Nozzle_Bed_Temp\": 230, \"Print_Fan_Speed\": 50, \"infill_roughness\": 265}, {\"Nozzle_Bed_Temp\": 240, \"Print_Fan_Speed\": 75, \"infill_roughness\": 312}, {\"Nozzle_Bed_Temp\": 250, \"Print_Fan_Speed\": 100, \"infill_roughness\": 368}, {\"Nozzle_Bed_Temp\": 200, \"Print_Fan_Speed\": 0, \"infill_roughness\": 180}, {\"Nozzle_Bed_Temp\": 205, \"Print_Fan_Speed\": 25, \"infill_roughness\": 176}, {\"Nozzle_Bed_Temp\": 210, \"Print_Fan_Speed\": 50, \"infill_roughness\": 128}, {\"Nozzle_Bed_Temp\": 215, \"Print_Fan_Speed\": 75, \"infill_roughness\": 138}, {\"Nozzle_Bed_Temp\": 210, \"Print_Fan_Speed\": 50, \"infill_roughness\": 98}, {\"Nozzle_Bed_Temp\": 220, \"Print_Fan_Speed\": 0, \"infill_roughness\": 168}, {\"Nozzle_Bed_Temp\": 225, \"Print_Fan_Speed\": 25, \"infill_roughness\": 154}, {\"Nozzle_Bed_Temp\": 230, \"Print_Fan_Speed\": 50, \"infill_roughness\": 225}, {\"Nozzle_Bed_Temp\": 240, \"Print_Fan_Speed\": 75, \"infill_roughness\": 289}, {\"Nozzle_Bed_Temp\": 250, \"Print_Fan_Speed\": 100, \"infill_roughness\": 326}, {\"Nozzle_Bed_Temp\": 200, \"Print_Fan_Speed\": 0, \"infill_roughness\": 192}, {\"Nozzle_Bed_Temp\": 205, \"Print_Fan_Speed\": 25, \"infill_roughness\": 212}, {\"Nozzle_Bed_Temp\": 210, \"Print_Fan_Speed\": 50, \"infill_roughness\": 168}, {\"Nozzle_Bed_Temp\": 215, \"Print_Fan_Speed\": 75, \"infill_roughness\": 172}, {\"Nozzle_Bed_Temp\": 220, \"Print_Fan_Speed\": 100, \"infill_roughness\": 163}, {\"Nozzle_Bed_Temp\": 220, \"Print_Fan_Speed\": 0, \"infill_roughness\": 212}, {\"Nozzle_Bed_Temp\": 225, \"Print_Fan_Speed\": 25, \"infill_roughness\": 276}, {\"Nozzle_Bed_Temp\": 230, \"Print_Fan_Speed\": 50, \"infill_roughness\": 298}, {\"Nozzle_Bed_Temp\": 240, \"Print_Fan_Speed\": 75, \"infill_roughness\": 360}, {\"Nozzle_Bed_Temp\": 250, \"Print_Fan_Speed\": 100, \"infill_roughness\": 357}, {\"Nozzle_Bed_Temp\": 200, \"Print_Fan_Speed\": 0, \"infill_roughness\": 321}, {\"Nozzle_Bed_Temp\": 205, \"Print_Fan_Speed\": 25, \"infill_roughness\": 265}, {\"Nozzle_Bed_Temp\": 210, \"Print_Fan_Speed\": 50, \"infill_roughness\": 278}, {\"Nozzle_Bed_Temp\": 215, \"Print_Fan_Speed\": 75, \"infill_roughness\": 244}, {\"Nozzle_Bed_Temp\": 220, \"Print_Fan_Speed\": 100, \"infill_roughness\": 220}, {\"Nozzle_Bed_Temp\": 220, \"Print_Fan_Speed\": 0, \"infill_roughness\": 25}, {\"Nozzle_Bed_Temp\": 220, \"Print_Fan_Speed\": 0, \"infill_roughness\": 75}, {\"Nozzle_Bed_Temp\": 205, \"Print_Fan_Speed\": 25, \"infill_roughness\": 55}, {\"Nozzle_Bed_Temp\": 200, \"Print_Fan_Speed\": 0, \"infill_roughness\": 126}, {\"Nozzle_Bed_Temp\": 205, \"Print_Fan_Speed\": 28, \"infill_roughness\": 55}, {\"Nozzle_Bed_Temp\": 250, \"Print_Fan_Speed\": 75, \"infill_roughness\": 312}, {\"Nozzle_Bed_Temp\": 220, \"Print_Fan_Speed\": 100, \"infill_roughness\": 121}, {\"Nozzle_Bed_Temp\": 225, \"Print_Fan_Speed\": 25, \"infill_roughness\": 154}, {\"Nozzle_Bed_Temp\": 230, \"Print_Fan_Speed\": 50, \"infill_roughness\": 225}, {\"Nozzle_Bed_Temp\": 220, \"Print_Fan_Speed\": 0, \"infill_roughness\": 192}, {\"Nozzle_Bed_Temp\": 230, \"Print_Fan_Speed\": 100, \"infill_roughness\": 74}, {\"Nozzle_Bed_Temp\": 200, \"Print_Fan_Speed\": 75, \"infill_roughness\": 200}, {\"Nozzle_Bed_Temp\": 230, \"Print_Fan_Speed\": 50, \"infill_roughness\": 40}, {\"Nozzle_Bed_Temp\": 240, \"Print_Fan_Speed\": 75, \"infill_roughness\": 68}, {\"Nozzle_Bed_Temp\": 245, \"Print_Fan_Speed\": 75, \"infill_roughness\": 205}, {\"Nozzle_Bed_Temp\": 220, \"Print_Fan_Speed\": 0, \"infill_roughness\": 120}]}}, {\"mode\": \"vega-lite\"});\n",
              "</script>"
            ]
          },
          "metadata": {
            "tags": []
          },
          "execution_count": 173
        }
      ]
    },
    {
      "cell_type": "code",
      "metadata": {
        "id": "-ztCds0FL6rL",
        "colab_type": "code",
        "colab": {
          "base_uri": "https://localhost:8080/",
          "height": 197
        },
        "outputId": "86745e8d-5bb8-4ad2-eec6-ca9ff7869522"
      },
      "source": [
        "new_df.head()"
      ],
      "execution_count": 174,
      "outputs": [
        {
          "output_type": "execute_result",
          "data": {
            "text/html": [
              "<div>\n",
              "<style scoped>\n",
              "    .dataframe tbody tr th:only-of-type {\n",
              "        vertical-align: middle;\n",
              "    }\n",
              "\n",
              "    .dataframe tbody tr th {\n",
              "        vertical-align: top;\n",
              "    }\n",
              "\n",
              "    .dataframe thead th {\n",
              "        text-align: right;\n",
              "    }\n",
              "</style>\n",
              "<table border=\"1\" class=\"dataframe\">\n",
              "  <thead>\n",
              "    <tr style=\"text-align: right;\">\n",
              "      <th></th>\n",
              "      <th>Nozzle_Bed_Temp</th>\n",
              "      <th>Print_Fan_Speed</th>\n",
              "      <th>infill_roughness</th>\n",
              "    </tr>\n",
              "  </thead>\n",
              "  <tbody>\n",
              "    <tr>\n",
              "      <th>0</th>\n",
              "      <td>60</td>\n",
              "      <td>40</td>\n",
              "      <td>90</td>\n",
              "    </tr>\n",
              "    <tr>\n",
              "      <th>1</th>\n",
              "      <td>65</td>\n",
              "      <td>40</td>\n",
              "      <td>90</td>\n",
              "    </tr>\n",
              "    <tr>\n",
              "      <th>2</th>\n",
              "      <td>70</td>\n",
              "      <td>40</td>\n",
              "      <td>80</td>\n",
              "    </tr>\n",
              "    <tr>\n",
              "      <th>3</th>\n",
              "      <td>75</td>\n",
              "      <td>40</td>\n",
              "      <td>70</td>\n",
              "    </tr>\n",
              "    <tr>\n",
              "      <th>4</th>\n",
              "      <td>80</td>\n",
              "      <td>40</td>\n",
              "      <td>90</td>\n",
              "    </tr>\n",
              "  </tbody>\n",
              "</table>\n",
              "</div>"
            ],
            "text/plain": [
              "   Nozzle_Bed_Temp  Print_Fan_Speed  infill_roughness\n",
              "0               60               40                90\n",
              "1               65               40                90\n",
              "2               70               40                80\n",
              "3               75               40                70\n",
              "4               80               40                90"
            ]
          },
          "metadata": {
            "tags": []
          },
          "execution_count": 174
        }
      ]
    },
    {
      "cell_type": "code",
      "metadata": {
        "id": "peDLxZpSmqbw",
        "colab_type": "code",
        "colab": {
          "base_uri": "https://localhost:8080/",
          "height": 542
        },
        "outputId": "6da10499-3ba1-4322-faa9-7e38e0399e72"
      },
      "source": [
        "\n",
        "fig = px.scatter_3d(new_df, x='Nozzle_Bed_Temp', y='Print_Fan_Speed', z='infill_roughness',\n",
        "              color='Print_Fan_Speed')\n",
        "fig.show()"
      ],
      "execution_count": 175,
      "outputs": [
        {
          "output_type": "display_data",
          "data": {
            "text/html": [
              "<html>\n",
              "<head><meta charset=\"utf-8\" /></head>\n",
              "<body>\n",
              "    <div>\n",
              "            <script src=\"https://cdnjs.cloudflare.com/ajax/libs/mathjax/2.7.5/MathJax.js?config=TeX-AMS-MML_SVG\"></script><script type=\"text/javascript\">if (window.MathJax) {MathJax.Hub.Config({SVG: {font: \"STIX-Web\"}});}</script>\n",
              "                <script type=\"text/javascript\">window.PlotlyConfig = {MathJaxConfig: 'local'};</script>\n",
              "        <script src=\"https://cdn.plot.ly/plotly-latest.min.js\"></script>    \n",
              "            <div id=\"7311b338-f792-4e85-82a7-a519c9b462b5\" class=\"plotly-graph-div\" style=\"height:525px; width:100%;\"></div>\n",
              "            <script type=\"text/javascript\">\n",
              "                \n",
              "                    window.PLOTLYENV=window.PLOTLYENV || {};\n",
              "                    \n",
              "                if (document.getElementById(\"7311b338-f792-4e85-82a7-a519c9b462b5\")) {\n",
              "                    Plotly.newPlot(\n",
              "                        '7311b338-f792-4e85-82a7-a519c9b462b5',\n",
              "                        [{\"hoverlabel\": {\"namelength\": 0}, \"hovertemplate\": \"Nozzle_Bed_Temp=%{x}<br>Print_Fan_Speed=%{marker.color}<br>infill_roughness=%{z}\", \"legendgroup\": \"\", \"marker\": {\"color\": [40, 40, 40, 40, 40, 40, 40, 40, 40, 40, 60, 60, 60, 60, 60, 60, 60, 60, 60, 60, 120, 120, 120, 120, 120, 120, 120, 120, 120, 60, 60, 60, 60, 60, 60, 60, 60, 60, 60, 60, 40, 40, 40, 40, 40, 40, 40, 40, 40, 40, 40, 60, 40, 60, 40, 120, 120, 70, 60, 60, 65, 80, 40, 40, 85, 120, 0, 25, 50, 75, 100, 0, 100, 50, 75, 100, 0, 25, 50, 75, 100, 0, 25, 50, 75, 100, 0, 25, 50, 75, 100, 0, 25, 50, 75, 50, 0, 25, 50, 75, 100, 0, 25, 50, 75, 100, 0, 25, 50, 75, 100, 0, 25, 50, 75, 100, 0, 0, 25, 0, 28, 75, 100, 25, 50, 0, 100, 75, 50, 75, 75, 0], \"coloraxis\": \"coloraxis\", \"symbol\": \"circle\"}, \"mode\": \"markers\", \"name\": \"\", \"scene\": \"scene\", \"showlegend\": false, \"type\": \"scatter3d\", \"x\": [60, 65, 70, 75, 80, 60, 100, 70, 75, 80, 60, 65, 70, 75, 80, 60, 65, 70, 95, 80, 60, 65, 70, 75, 80, 60, 65, 70, 75, 70, 60, 65, 70, 75, 80, 60, 65, 70, 75, 80, 60, 65, 70, 75, 80, 60, 65, 70, 75, 80, 60, 60, 65, 60, 65, 75, 75, 65, 70, 60, 80, 75, 70, 85, 75, 60, 220, 225, 230, 240, 250, 200, 250, 210, 215, 220, 220, 225, 230, 240, 250, 200, 205, 210, 215, 220, 220, 225, 230, 240, 250, 200, 205, 210, 215, 210, 220, 225, 230, 240, 250, 200, 205, 210, 215, 220, 220, 225, 230, 240, 250, 200, 205, 210, 215, 220, 220, 220, 205, 200, 205, 250, 220, 225, 230, 220, 230, 200, 230, 240, 245, 220], \"y\": [40, 40, 40, 40, 40, 40, 40, 40, 40, 40, 60, 60, 60, 60, 60, 60, 60, 60, 60, 60, 120, 120, 120, 120, 120, 120, 120, 120, 120, 60, 60, 60, 60, 60, 60, 60, 60, 60, 60, 60, 40, 40, 40, 40, 40, 40, 40, 40, 40, 40, 40, 60, 40, 60, 40, 120, 120, 70, 60, 60, 65, 80, 40, 40, 85, 120, 0, 25, 50, 75, 100, 0, 100, 50, 75, 100, 0, 25, 50, 75, 100, 0, 25, 50, 75, 100, 0, 25, 50, 75, 100, 0, 25, 50, 75, 50, 0, 25, 50, 75, 100, 0, 25, 50, 75, 100, 0, 25, 50, 75, 100, 0, 25, 50, 75, 100, 0, 0, 25, 0, 28, 75, 100, 25, 50, 0, 100, 75, 50, 75, 75, 0], \"z\": [90, 90, 80, 70, 90, 40, 90, 10, 70, 40, 80, 20, 50, 10, 50, 90, 40, 30, 90, 50, 40, 30, 50, 80, 60, 50, 40, 50, 90, 60, 50, 10, 50, 50, 80, 80, 50, 30, 40, 10, 80, 90, 30, 90, 80, 60, 20, 60, 40, 60, 90, 20, 10, 100, 12, 80, 95, 10, 50, 85, 50, 10, 80, 70, 10, 50, 25, 32, 40, 68, 92, 60, 98, 21, 24, 30, 75, 92, 118, 200, 220, 126, 145, 88, 92, 74, 120, 144, 265, 312, 368, 180, 176, 128, 138, 98, 168, 154, 225, 289, 326, 192, 212, 168, 172, 163, 212, 276, 298, 360, 357, 321, 265, 278, 244, 220, 25, 75, 55, 126, 55, 312, 121, 154, 225, 192, 74, 200, 40, 68, 205, 120]}],\n",
              "                        {\"coloraxis\": {\"colorbar\": {\"title\": {\"text\": \"Print_Fan_Speed\"}}, \"colorscale\": [[0.0, \"#0d0887\"], [0.1111111111111111, \"#46039f\"], [0.2222222222222222, \"#7201a8\"], [0.3333333333333333, \"#9c179e\"], [0.4444444444444444, \"#bd3786\"], [0.5555555555555556, \"#d8576b\"], [0.6666666666666666, \"#ed7953\"], [0.7777777777777778, \"#fb9f3a\"], [0.8888888888888888, \"#fdca26\"], [1.0, \"#f0f921\"]]}, \"legend\": {\"tracegroupgap\": 0}, \"margin\": {\"t\": 60}, \"scene\": {\"domain\": {\"x\": [0.0, 1.0], \"y\": [0.0, 1.0]}, \"xaxis\": {\"title\": {\"text\": \"Nozzle_Bed_Temp\"}}, \"yaxis\": {\"title\": {\"text\": \"Print_Fan_Speed\"}}, \"zaxis\": {\"title\": {\"text\": \"infill_roughness\"}}}, \"template\": {\"data\": {\"bar\": [{\"error_x\": {\"color\": \"#2a3f5f\"}, \"error_y\": {\"color\": \"#2a3f5f\"}, \"marker\": {\"line\": {\"color\": \"#E5ECF6\", \"width\": 0.5}}, \"type\": \"bar\"}], \"barpolar\": [{\"marker\": {\"line\": {\"color\": \"#E5ECF6\", \"width\": 0.5}}, \"type\": \"barpolar\"}], \"carpet\": [{\"aaxis\": {\"endlinecolor\": \"#2a3f5f\", \"gridcolor\": \"white\", \"linecolor\": \"white\", \"minorgridcolor\": \"white\", \"startlinecolor\": \"#2a3f5f\"}, \"baxis\": {\"endlinecolor\": \"#2a3f5f\", \"gridcolor\": \"white\", \"linecolor\": \"white\", \"minorgridcolor\": \"white\", \"startlinecolor\": \"#2a3f5f\"}, \"type\": \"carpet\"}], \"choropleth\": [{\"colorbar\": {\"outlinewidth\": 0, \"ticks\": \"\"}, \"type\": \"choropleth\"}], \"contour\": [{\"colorbar\": {\"outlinewidth\": 0, \"ticks\": \"\"}, \"colorscale\": [[0.0, \"#0d0887\"], [0.1111111111111111, \"#46039f\"], [0.2222222222222222, \"#7201a8\"], [0.3333333333333333, \"#9c179e\"], [0.4444444444444444, \"#bd3786\"], [0.5555555555555556, \"#d8576b\"], [0.6666666666666666, \"#ed7953\"], [0.7777777777777778, \"#fb9f3a\"], [0.8888888888888888, \"#fdca26\"], [1.0, \"#f0f921\"]], \"type\": \"contour\"}], \"contourcarpet\": [{\"colorbar\": {\"outlinewidth\": 0, \"ticks\": \"\"}, \"type\": \"contourcarpet\"}], \"heatmap\": [{\"colorbar\": {\"outlinewidth\": 0, \"ticks\": \"\"}, \"colorscale\": [[0.0, \"#0d0887\"], [0.1111111111111111, \"#46039f\"], [0.2222222222222222, \"#7201a8\"], [0.3333333333333333, \"#9c179e\"], [0.4444444444444444, \"#bd3786\"], [0.5555555555555556, \"#d8576b\"], [0.6666666666666666, \"#ed7953\"], [0.7777777777777778, \"#fb9f3a\"], [0.8888888888888888, \"#fdca26\"], [1.0, \"#f0f921\"]], \"type\": \"heatmap\"}], \"heatmapgl\": [{\"colorbar\": {\"outlinewidth\": 0, \"ticks\": \"\"}, \"colorscale\": [[0.0, \"#0d0887\"], [0.1111111111111111, \"#46039f\"], [0.2222222222222222, \"#7201a8\"], [0.3333333333333333, \"#9c179e\"], [0.4444444444444444, \"#bd3786\"], [0.5555555555555556, \"#d8576b\"], [0.6666666666666666, \"#ed7953\"], [0.7777777777777778, \"#fb9f3a\"], [0.8888888888888888, \"#fdca26\"], [1.0, \"#f0f921\"]], \"type\": \"heatmapgl\"}], \"histogram\": [{\"marker\": {\"colorbar\": {\"outlinewidth\": 0, \"ticks\": \"\"}}, \"type\": \"histogram\"}], \"histogram2d\": [{\"colorbar\": {\"outlinewidth\": 0, \"ticks\": \"\"}, \"colorscale\": [[0.0, \"#0d0887\"], [0.1111111111111111, \"#46039f\"], [0.2222222222222222, \"#7201a8\"], [0.3333333333333333, \"#9c179e\"], [0.4444444444444444, \"#bd3786\"], [0.5555555555555556, \"#d8576b\"], [0.6666666666666666, \"#ed7953\"], [0.7777777777777778, \"#fb9f3a\"], [0.8888888888888888, \"#fdca26\"], [1.0, \"#f0f921\"]], \"type\": \"histogram2d\"}], \"histogram2dcontour\": [{\"colorbar\": {\"outlinewidth\": 0, \"ticks\": \"\"}, \"colorscale\": [[0.0, \"#0d0887\"], [0.1111111111111111, \"#46039f\"], [0.2222222222222222, \"#7201a8\"], [0.3333333333333333, \"#9c179e\"], [0.4444444444444444, \"#bd3786\"], [0.5555555555555556, \"#d8576b\"], [0.6666666666666666, \"#ed7953\"], [0.7777777777777778, \"#fb9f3a\"], [0.8888888888888888, \"#fdca26\"], [1.0, \"#f0f921\"]], \"type\": \"histogram2dcontour\"}], \"mesh3d\": [{\"colorbar\": {\"outlinewidth\": 0, \"ticks\": \"\"}, \"type\": \"mesh3d\"}], \"parcoords\": [{\"line\": {\"colorbar\": {\"outlinewidth\": 0, \"ticks\": \"\"}}, \"type\": \"parcoords\"}], \"pie\": [{\"automargin\": true, \"type\": \"pie\"}], \"scatter\": [{\"marker\": {\"colorbar\": {\"outlinewidth\": 0, \"ticks\": \"\"}}, \"type\": \"scatter\"}], \"scatter3d\": [{\"line\": {\"colorbar\": {\"outlinewidth\": 0, \"ticks\": \"\"}}, \"marker\": {\"colorbar\": {\"outlinewidth\": 0, \"ticks\": \"\"}}, \"type\": \"scatter3d\"}], \"scattercarpet\": [{\"marker\": {\"colorbar\": {\"outlinewidth\": 0, \"ticks\": \"\"}}, \"type\": \"scattercarpet\"}], \"scattergeo\": [{\"marker\": {\"colorbar\": {\"outlinewidth\": 0, \"ticks\": \"\"}}, \"type\": \"scattergeo\"}], \"scattergl\": [{\"marker\": {\"colorbar\": {\"outlinewidth\": 0, \"ticks\": \"\"}}, \"type\": \"scattergl\"}], \"scattermapbox\": [{\"marker\": {\"colorbar\": {\"outlinewidth\": 0, \"ticks\": \"\"}}, \"type\": \"scattermapbox\"}], \"scatterpolar\": [{\"marker\": {\"colorbar\": {\"outlinewidth\": 0, \"ticks\": \"\"}}, \"type\": \"scatterpolar\"}], \"scatterpolargl\": [{\"marker\": {\"colorbar\": {\"outlinewidth\": 0, \"ticks\": \"\"}}, \"type\": \"scatterpolargl\"}], \"scatterternary\": [{\"marker\": {\"colorbar\": {\"outlinewidth\": 0, \"ticks\": \"\"}}, \"type\": \"scatterternary\"}], \"surface\": [{\"colorbar\": {\"outlinewidth\": 0, \"ticks\": \"\"}, \"colorscale\": [[0.0, \"#0d0887\"], [0.1111111111111111, \"#46039f\"], [0.2222222222222222, \"#7201a8\"], [0.3333333333333333, \"#9c179e\"], [0.4444444444444444, \"#bd3786\"], [0.5555555555555556, \"#d8576b\"], [0.6666666666666666, \"#ed7953\"], [0.7777777777777778, \"#fb9f3a\"], [0.8888888888888888, \"#fdca26\"], [1.0, \"#f0f921\"]], \"type\": \"surface\"}], \"table\": [{\"cells\": {\"fill\": {\"color\": \"#EBF0F8\"}, \"line\": {\"color\": \"white\"}}, \"header\": {\"fill\": {\"color\": \"#C8D4E3\"}, \"line\": {\"color\": \"white\"}}, \"type\": \"table\"}]}, \"layout\": {\"annotationdefaults\": {\"arrowcolor\": \"#2a3f5f\", \"arrowhead\": 0, \"arrowwidth\": 1}, \"coloraxis\": {\"colorbar\": {\"outlinewidth\": 0, \"ticks\": \"\"}}, \"colorscale\": {\"diverging\": [[0, \"#8e0152\"], [0.1, \"#c51b7d\"], [0.2, \"#de77ae\"], [0.3, \"#f1b6da\"], [0.4, \"#fde0ef\"], [0.5, \"#f7f7f7\"], [0.6, \"#e6f5d0\"], [0.7, \"#b8e186\"], [0.8, \"#7fbc41\"], [0.9, \"#4d9221\"], [1, \"#276419\"]], \"sequential\": [[0.0, \"#0d0887\"], [0.1111111111111111, \"#46039f\"], [0.2222222222222222, \"#7201a8\"], [0.3333333333333333, \"#9c179e\"], [0.4444444444444444, \"#bd3786\"], [0.5555555555555556, \"#d8576b\"], [0.6666666666666666, \"#ed7953\"], [0.7777777777777778, \"#fb9f3a\"], [0.8888888888888888, \"#fdca26\"], [1.0, \"#f0f921\"]], \"sequentialminus\": [[0.0, \"#0d0887\"], [0.1111111111111111, \"#46039f\"], [0.2222222222222222, \"#7201a8\"], [0.3333333333333333, \"#9c179e\"], [0.4444444444444444, \"#bd3786\"], [0.5555555555555556, \"#d8576b\"], [0.6666666666666666, \"#ed7953\"], [0.7777777777777778, \"#fb9f3a\"], [0.8888888888888888, \"#fdca26\"], [1.0, \"#f0f921\"]]}, \"colorway\": [\"#636efa\", \"#EF553B\", \"#00cc96\", \"#ab63fa\", \"#FFA15A\", \"#19d3f3\", \"#FF6692\", \"#B6E880\", \"#FF97FF\", \"#FECB52\"], \"font\": {\"color\": \"#2a3f5f\"}, \"geo\": {\"bgcolor\": \"white\", \"lakecolor\": \"white\", \"landcolor\": \"#E5ECF6\", \"showlakes\": true, \"showland\": true, \"subunitcolor\": \"white\"}, \"hoverlabel\": {\"align\": \"left\"}, \"hovermode\": \"closest\", \"mapbox\": {\"style\": \"light\"}, \"paper_bgcolor\": \"white\", \"plot_bgcolor\": \"#E5ECF6\", \"polar\": {\"angularaxis\": {\"gridcolor\": \"white\", \"linecolor\": \"white\", \"ticks\": \"\"}, \"bgcolor\": \"#E5ECF6\", \"radialaxis\": {\"gridcolor\": \"white\", \"linecolor\": \"white\", \"ticks\": \"\"}}, \"scene\": {\"xaxis\": {\"backgroundcolor\": \"#E5ECF6\", \"gridcolor\": \"white\", \"gridwidth\": 2, \"linecolor\": \"white\", \"showbackground\": true, \"ticks\": \"\", \"zerolinecolor\": \"white\"}, \"yaxis\": {\"backgroundcolor\": \"#E5ECF6\", \"gridcolor\": \"white\", \"gridwidth\": 2, \"linecolor\": \"white\", \"showbackground\": true, \"ticks\": \"\", \"zerolinecolor\": \"white\"}, \"zaxis\": {\"backgroundcolor\": \"#E5ECF6\", \"gridcolor\": \"white\", \"gridwidth\": 2, \"linecolor\": \"white\", \"showbackground\": true, \"ticks\": \"\", \"zerolinecolor\": \"white\"}}, \"shapedefaults\": {\"line\": {\"color\": \"#2a3f5f\"}}, \"ternary\": {\"aaxis\": {\"gridcolor\": \"white\", \"linecolor\": \"white\", \"ticks\": \"\"}, \"baxis\": {\"gridcolor\": \"white\", \"linecolor\": \"white\", \"ticks\": \"\"}, \"bgcolor\": \"#E5ECF6\", \"caxis\": {\"gridcolor\": \"white\", \"linecolor\": \"white\", \"ticks\": \"\"}}, \"title\": {\"x\": 0.05}, \"xaxis\": {\"automargin\": true, \"gridcolor\": \"white\", \"linecolor\": \"white\", \"ticks\": \"\", \"title\": {\"standoff\": 15}, \"zerolinecolor\": \"white\", \"zerolinewidth\": 2}, \"yaxis\": {\"automargin\": true, \"gridcolor\": \"white\", \"linecolor\": \"white\", \"ticks\": \"\", \"title\": {\"standoff\": 15}, \"zerolinecolor\": \"white\", \"zerolinewidth\": 2}}}},\n",
              "                        {\"responsive\": true}\n",
              "                    ).then(function(){\n",
              "                            \n",
              "var gd = document.getElementById('7311b338-f792-4e85-82a7-a519c9b462b5');\n",
              "var x = new MutationObserver(function (mutations, observer) {{\n",
              "        var display = window.getComputedStyle(gd).display;\n",
              "        if (!display || display === 'none') {{\n",
              "            console.log([gd, 'removed!']);\n",
              "            Plotly.purge(gd);\n",
              "            observer.disconnect();\n",
              "        }}\n",
              "}});\n",
              "\n",
              "// Listen for the removal of the full notebook cells\n",
              "var notebookContainer = gd.closest('#notebook-container');\n",
              "if (notebookContainer) {{\n",
              "    x.observe(notebookContainer, {childList: true});\n",
              "}}\n",
              "\n",
              "// Listen for the clearing of the current output cell\n",
              "var outputEl = gd.closest('.output');\n",
              "if (outputEl) {{\n",
              "    x.observe(outputEl, {childList: true});\n",
              "}}\n",
              "\n",
              "                        })\n",
              "                };\n",
              "                \n",
              "            </script>\n",
              "        </div>\n",
              "</body>\n",
              "</html>"
            ]
          },
          "metadata": {
            "tags": []
          }
        }
      ]
    },
    {
      "cell_type": "code",
      "metadata": {
        "id": "tR1kWP7BwQmU",
        "colab_type": "code",
        "colab": {
          "base_uri": "https://localhost:8080/",
          "height": 34
        },
        "outputId": "685e3db9-8576-45c4-d6d5-274833c8d131"
      },
      "source": [
        "plotly.offline.plot(fig, filename='graph.html')"
      ],
      "execution_count": 176,
      "outputs": [
        {
          "output_type": "execute_result",
          "data": {
            "text/plain": [
              "'graph.html'"
            ]
          },
          "metadata": {
            "tags": []
          },
          "execution_count": 176
        }
      ]
    }
  ]
}